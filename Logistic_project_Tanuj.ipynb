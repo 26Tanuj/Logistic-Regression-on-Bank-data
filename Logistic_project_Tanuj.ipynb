{
 "cells": [
  {
   "cell_type": "code",
   "execution_count": 1,
   "id": "5ad38cd9",
   "metadata": {},
   "outputs": [],
   "source": [
    "import pandas as pd\n",
    "import numpy as np"
   ]
  },
  {
   "cell_type": "code",
   "execution_count": 2,
   "id": "64ab6fe2",
   "metadata": {},
   "outputs": [],
   "source": [
    "bank_df = pd.read_csv(\"bank_data.csv\")"
   ]
  },
  {
   "cell_type": "code",
   "execution_count": 3,
   "id": "4f249862",
   "metadata": {},
   "outputs": [
    {
     "name": "stdout",
     "output_type": "stream",
     "text": [
      "<class 'pandas.core.frame.DataFrame'>\n",
      "RangeIndex: 5000 entries, 0 to 4999\n",
      "Data columns (total 22 columns):\n",
      " #   Column                       Non-Null Count  Dtype \n",
      "---  ------                       --------------  ----- \n",
      " 0   Customer_ID                  5000 non-null   int64 \n",
      " 1   Status_Checking_Acc          5000 non-null   object\n",
      " 2   Duration_in_Months           5000 non-null   int64 \n",
      " 3   Credit_History               5000 non-null   object\n",
      " 4   Purposre_Credit_Taken        5000 non-null   object\n",
      " 5   Credit_Amount                5000 non-null   int64 \n",
      " 6   Savings_Acc                  5000 non-null   object\n",
      " 7   Years_At_Present_Employment  5000 non-null   object\n",
      " 8   Inst_Rt_Income               5000 non-null   int64 \n",
      " 9   Marital_Status_Gender        5000 non-null   object\n",
      " 10  Other_Debtors_Guarantors     5000 non-null   object\n",
      " 11  Current_Address_Yrs          5000 non-null   int64 \n",
      " 12  Property                     5000 non-null   object\n",
      " 13  Age                          5000 non-null   int64 \n",
      " 14  Other_Inst_Plans             5000 non-null   object\n",
      " 15  Housing                      5000 non-null   object\n",
      " 16  Num_CC                       5000 non-null   int64 \n",
      " 17  Job                          5000 non-null   object\n",
      " 18  Dependents                   5000 non-null   int64 \n",
      " 19  Telephone                    5000 non-null   object\n",
      " 20  Foreign_Worker               5000 non-null   object\n",
      " 21  Default_On_Payment           5000 non-null   int64 \n",
      "dtypes: int64(9), object(13)\n",
      "memory usage: 859.5+ KB\n"
     ]
    }
   ],
   "source": [
    "bank_df.info()"
   ]
  },
  {
   "cell_type": "code",
   "execution_count": 4,
   "id": "11b14073",
   "metadata": {},
   "outputs": [
    {
     "data": {
      "text/html": [
       "<div>\n",
       "<style scoped>\n",
       "    .dataframe tbody tr th:only-of-type {\n",
       "        vertical-align: middle;\n",
       "    }\n",
       "\n",
       "    .dataframe tbody tr th {\n",
       "        vertical-align: top;\n",
       "    }\n",
       "\n",
       "    .dataframe thead th {\n",
       "        text-align: right;\n",
       "    }\n",
       "</style>\n",
       "<table border=\"1\" class=\"dataframe\">\n",
       "  <thead>\n",
       "    <tr style=\"text-align: right;\">\n",
       "      <th></th>\n",
       "      <th>Status_Checking_Acc</th>\n",
       "      <th>Duration_in_Months</th>\n",
       "      <th>Credit_History</th>\n",
       "      <th>Purposre_Credit_Taken</th>\n",
       "      <th>Credit_Amount</th>\n",
       "      <th>Savings_Acc</th>\n",
       "    </tr>\n",
       "  </thead>\n",
       "  <tbody>\n",
       "    <tr>\n",
       "      <th>0</th>\n",
       "      <td>A11</td>\n",
       "      <td>6</td>\n",
       "      <td>A34</td>\n",
       "      <td>A43</td>\n",
       "      <td>1169</td>\n",
       "      <td>A65</td>\n",
       "    </tr>\n",
       "    <tr>\n",
       "      <th>1</th>\n",
       "      <td>A12</td>\n",
       "      <td>48</td>\n",
       "      <td>A32</td>\n",
       "      <td>A43</td>\n",
       "      <td>5951</td>\n",
       "      <td>A61</td>\n",
       "    </tr>\n",
       "    <tr>\n",
       "      <th>2</th>\n",
       "      <td>A14</td>\n",
       "      <td>12</td>\n",
       "      <td>A34</td>\n",
       "      <td>A46</td>\n",
       "      <td>2096</td>\n",
       "      <td>A61</td>\n",
       "    </tr>\n",
       "    <tr>\n",
       "      <th>3</th>\n",
       "      <td>A11</td>\n",
       "      <td>42</td>\n",
       "      <td>A32</td>\n",
       "      <td>A42</td>\n",
       "      <td>7882</td>\n",
       "      <td>A61</td>\n",
       "    </tr>\n",
       "    <tr>\n",
       "      <th>4</th>\n",
       "      <td>A11</td>\n",
       "      <td>24</td>\n",
       "      <td>A33</td>\n",
       "      <td>A40</td>\n",
       "      <td>4870</td>\n",
       "      <td>A61</td>\n",
       "    </tr>\n",
       "  </tbody>\n",
       "</table>\n",
       "</div>"
      ],
      "text/plain": [
       "  Status_Checking_Acc  Duration_in_Months Credit_History  \\\n",
       "0                 A11                   6            A34   \n",
       "1                 A12                  48            A32   \n",
       "2                 A14                  12            A34   \n",
       "3                 A11                  42            A32   \n",
       "4                 A11                  24            A33   \n",
       "\n",
       "  Purposre_Credit_Taken  Credit_Amount Savings_Acc  \n",
       "0                   A43           1169         A65  \n",
       "1                   A43           5951         A61  \n",
       "2                   A46           2096         A61  \n",
       "3                   A42           7882         A61  \n",
       "4                   A40           4870         A61  "
      ]
     },
     "execution_count": 4,
     "metadata": {},
     "output_type": "execute_result"
    }
   ],
   "source": [
    "bank_df.iloc[0:5,1:7]"
   ]
  },
  {
   "cell_type": "code",
   "execution_count": 5,
   "id": "9e151fef",
   "metadata": {},
   "outputs": [
    {
     "data": {
      "text/html": [
       "<div>\n",
       "<style scoped>\n",
       "    .dataframe tbody tr th:only-of-type {\n",
       "        vertical-align: middle;\n",
       "    }\n",
       "\n",
       "    .dataframe tbody tr th {\n",
       "        vertical-align: top;\n",
       "    }\n",
       "\n",
       "    .dataframe thead th {\n",
       "        text-align: right;\n",
       "    }\n",
       "</style>\n",
       "<table border=\"1\" class=\"dataframe\">\n",
       "  <thead>\n",
       "    <tr style=\"text-align: right;\">\n",
       "      <th></th>\n",
       "      <th>Years_At_Present_Employment</th>\n",
       "      <th>Inst_Rt_Income</th>\n",
       "      <th>Marital_Status_Gender</th>\n",
       "      <th>Other_Debtors_Guarantors</th>\n",
       "      <th>Current_Address_Yrs</th>\n",
       "      <th>Property</th>\n",
       "      <th>Age</th>\n",
       "      <th>Other_Inst_Plans</th>\n",
       "      <th>Housing</th>\n",
       "      <th>Num_CC</th>\n",
       "      <th>Job</th>\n",
       "      <th>Dependents</th>\n",
       "      <th>Telephone</th>\n",
       "      <th>Foreign_Worker</th>\n",
       "      <th>Default_On_Payment</th>\n",
       "    </tr>\n",
       "  </thead>\n",
       "  <tbody>\n",
       "    <tr>\n",
       "      <th>0</th>\n",
       "      <td>A75</td>\n",
       "      <td>4</td>\n",
       "      <td>A93</td>\n",
       "      <td>A101</td>\n",
       "      <td>4</td>\n",
       "      <td>A121</td>\n",
       "      <td>67</td>\n",
       "      <td>A143</td>\n",
       "      <td>A152</td>\n",
       "      <td>2</td>\n",
       "      <td>A173</td>\n",
       "      <td>1</td>\n",
       "      <td>A192</td>\n",
       "      <td>A201</td>\n",
       "      <td>0</td>\n",
       "    </tr>\n",
       "    <tr>\n",
       "      <th>1</th>\n",
       "      <td>A73</td>\n",
       "      <td>2</td>\n",
       "      <td>A92</td>\n",
       "      <td>A101</td>\n",
       "      <td>2</td>\n",
       "      <td>A121</td>\n",
       "      <td>22</td>\n",
       "      <td>A143</td>\n",
       "      <td>A152</td>\n",
       "      <td>1</td>\n",
       "      <td>A173</td>\n",
       "      <td>1</td>\n",
       "      <td>A191</td>\n",
       "      <td>A201</td>\n",
       "      <td>0</td>\n",
       "    </tr>\n",
       "    <tr>\n",
       "      <th>2</th>\n",
       "      <td>A74</td>\n",
       "      <td>2</td>\n",
       "      <td>A93</td>\n",
       "      <td>A101</td>\n",
       "      <td>3</td>\n",
       "      <td>A121</td>\n",
       "      <td>49</td>\n",
       "      <td>A143</td>\n",
       "      <td>A152</td>\n",
       "      <td>1</td>\n",
       "      <td>A172</td>\n",
       "      <td>2</td>\n",
       "      <td>A191</td>\n",
       "      <td>A201</td>\n",
       "      <td>0</td>\n",
       "    </tr>\n",
       "    <tr>\n",
       "      <th>3</th>\n",
       "      <td>A74</td>\n",
       "      <td>2</td>\n",
       "      <td>A93</td>\n",
       "      <td>A103</td>\n",
       "      <td>4</td>\n",
       "      <td>A122</td>\n",
       "      <td>45</td>\n",
       "      <td>A143</td>\n",
       "      <td>A153</td>\n",
       "      <td>1</td>\n",
       "      <td>A173</td>\n",
       "      <td>2</td>\n",
       "      <td>A191</td>\n",
       "      <td>A201</td>\n",
       "      <td>0</td>\n",
       "    </tr>\n",
       "    <tr>\n",
       "      <th>4</th>\n",
       "      <td>A73</td>\n",
       "      <td>3</td>\n",
       "      <td>A93</td>\n",
       "      <td>A101</td>\n",
       "      <td>4</td>\n",
       "      <td>A124</td>\n",
       "      <td>53</td>\n",
       "      <td>A143</td>\n",
       "      <td>A153</td>\n",
       "      <td>2</td>\n",
       "      <td>A173</td>\n",
       "      <td>2</td>\n",
       "      <td>A191</td>\n",
       "      <td>A201</td>\n",
       "      <td>1</td>\n",
       "    </tr>\n",
       "  </tbody>\n",
       "</table>\n",
       "</div>"
      ],
      "text/plain": [
       "  Years_At_Present_Employment  Inst_Rt_Income Marital_Status_Gender  \\\n",
       "0                         A75               4                   A93   \n",
       "1                         A73               2                   A92   \n",
       "2                         A74               2                   A93   \n",
       "3                         A74               2                   A93   \n",
       "4                         A73               3                   A93   \n",
       "\n",
       "  Other_Debtors_Guarantors  Current_Address_Yrs Property  Age  \\\n",
       "0                     A101                    4     A121   67   \n",
       "1                     A101                    2     A121   22   \n",
       "2                     A101                    3     A121   49   \n",
       "3                     A103                    4     A122   45   \n",
       "4                     A101                    4     A124   53   \n",
       "\n",
       "  Other_Inst_Plans  Housing  Num_CC   Job  Dependents Telephone  \\\n",
       "0              A143    A152       2  A173           1      A192   \n",
       "1              A143    A152       1  A173           1      A191   \n",
       "2              A143    A152       1  A172           2      A191   \n",
       "3              A143    A153       1  A173           2      A191   \n",
       "4              A143    A153       2  A173           2      A191   \n",
       "\n",
       "  Foreign_Worker  Default_On_Payment  \n",
       "0           A201                   0  \n",
       "1           A201                   0  \n",
       "2           A201                   0  \n",
       "3           A201                   0  \n",
       "4           A201                   1  "
      ]
     },
     "execution_count": 5,
     "metadata": {},
     "output_type": "execute_result"
    }
   ],
   "source": [
    "bank_df.iloc[0:5,7:]"
   ]
  },
  {
   "cell_type": "code",
   "execution_count": 6,
   "id": "1f535f1f",
   "metadata": {},
   "outputs": [
    {
     "data": {
      "text/plain": [
       "0    3505\n",
       "1    1495\n",
       "Name: Default_On_Payment, dtype: int64"
      ]
     },
     "execution_count": 6,
     "metadata": {},
     "output_type": "execute_result"
    }
   ],
   "source": [
    "bank_df.Default_On_Payment.value_counts()"
   ]
  },
  {
   "cell_type": "code",
   "execution_count": 7,
   "id": "96de0f37",
   "metadata": {},
   "outputs": [],
   "source": [
    "x_features = list(bank_df.columns)"
   ]
  },
  {
   "cell_type": "code",
   "execution_count": 8,
   "id": "c486c18c",
   "metadata": {},
   "outputs": [],
   "source": [
    "x_features.remove(\"Default_On_Payment\")"
   ]
  },
  {
   "cell_type": "code",
   "execution_count": 9,
   "id": "64a19af2",
   "metadata": {},
   "outputs": [],
   "source": [
    "x_features.remove(\"Customer_ID\")"
   ]
  },
  {
   "cell_type": "code",
   "execution_count": 10,
   "id": "d95155b8",
   "metadata": {},
   "outputs": [
    {
     "data": {
      "text/plain": [
       "['Status_Checking_Acc',\n",
       " 'Duration_in_Months',\n",
       " 'Credit_History',\n",
       " 'Purposre_Credit_Taken',\n",
       " 'Credit_Amount',\n",
       " 'Savings_Acc',\n",
       " 'Years_At_Present_Employment',\n",
       " 'Inst_Rt_Income',\n",
       " 'Marital_Status_Gender',\n",
       " 'Other_Debtors_Guarantors',\n",
       " 'Current_Address_Yrs',\n",
       " 'Property',\n",
       " 'Age',\n",
       " 'Other_Inst_Plans ',\n",
       " 'Housing',\n",
       " 'Num_CC',\n",
       " 'Job',\n",
       " 'Dependents',\n",
       " 'Telephone',\n",
       " 'Foreign_Worker']"
      ]
     },
     "execution_count": 10,
     "metadata": {},
     "output_type": "execute_result"
    }
   ],
   "source": [
    "x_features"
   ]
  },
  {
   "cell_type": "code",
   "execution_count": 11,
   "id": "ddbe3de1",
   "metadata": {},
   "outputs": [],
   "source": [
    "import matplotlib.pyplot as plt\n",
    "import seaborn as sns\n",
    "%matplotlib inline"
   ]
  },
  {
   "cell_type": "code",
   "execution_count": 12,
   "id": "c44ccbbb",
   "metadata": {},
   "outputs": [
    {
     "data": {
      "text/plain": [
       "<AxesSubplot:xlabel='Status_Checking_Acc', ylabel='Default_On_Payment'>"
      ]
     },
     "execution_count": 12,
     "metadata": {},
     "output_type": "execute_result"
    },
    {
     "data": {
      "image/png": "[encoded data removed]",
      "text/plain": [
       "<Figure size 432x288 with 1 Axes>"
      ]
     },
     "metadata": {
      "needs_background": "light"
     },
     "output_type": "display_data"
    }
   ],
   "source": [
    "sns.barplot(x='Status_Checking_Acc',y='Default_On_Payment',data=bank_df)"
   ]
  },
  {
   "cell_type": "code",
   "execution_count": 14,
   "id": "73d1696a",
   "metadata": {},
   "outputs": [
    {
     "data": {
      "text/plain": [
       "(array([ 745., 1310.,  885.,  775.,  445.,  360.,  210.,  130.,  105.,\n",
       "          35.]),\n",
       " array([19. , 24.6, 30.2, 35.8, 41.4, 47. , 52.6, 58.2, 63.8, 69.4, 75. ]),\n",
       " <BarContainer object of 10 artists>)"
      ]
     },
     "execution_count": 14,
     "metadata": {},
     "output_type": "execute_result"
    },
    {
     "data": {
      "image/png": "[encoded data removed]",
      "text/plain": [
       "<Figure size 432x288 with 1 Axes>"
      ]
     },
     "metadata": {
      "needs_background": "light"
     },
     "output_type": "display_data"
    }
   ],
   "source": [
    "plt.hist(bank_df['Age'])"
   ]
  },
  {
   "cell_type": "code",
   "execution_count": 15,
   "id": "79a485e0",
   "metadata": {},
   "outputs": [
    {
     "name": "stderr",
     "output_type": "stream",
     "text": [
      "C:\\Users\\HP\\anaconda3\\lib\\site-packages\\seaborn\\_decorators.py:36: FutureWarning: Pass the following variable as a keyword arg: x. From version 0.12, the only valid positional argument will be `data`, and passing other arguments without an explicit keyword will result in an error or misinterpretation.\n",
      "  warnings.warn(\n"
     ]
    },
    {
     "data": {
      "image/png": "[encoded data removed]",
      "text/plain": [
       "<Figure size 432x288 with 1 Axes>"
      ]
     },
     "metadata": {
      "needs_background": "light"
     },
     "output_type": "display_data"
    }
   ],
   "source": [
    "box = sns.boxplot(bank_df['Age'])"
   ]
  },
  {
   "cell_type": "code",
   "execution_count": 16,
   "id": "b5610528",
   "metadata": {},
   "outputs": [
    {
     "data": {
      "image/png": "[encoded data removed]",
      "text/plain": [
       "<Figure size 432x288 with 1 Axes>"
      ]
     },
     "metadata": {
      "needs_background": "light"
     },
     "output_type": "display_data"
    }
   ],
   "source": [
    "box = plt.boxplot(bank_df['Age'])"
   ]
  },
  {
   "cell_type": "code",
   "execution_count": 17,
   "id": "56f67228",
   "metadata": {},
   "outputs": [],
   "source": [
    "influential_features = ['Duration_in_Months','Credit_Amount','Num_CC','Age']"
   ]
  },
  {
   "cell_type": "code",
   "execution_count": 18,
   "id": "81bdf754",
   "metadata": {},
   "outputs": [
    {
     "name": "stderr",
     "output_type": "stream",
     "text": [
      "C:\\Users\\HP\\anaconda3\\lib\\site-packages\\seaborn\\axisgrid.py:2076: UserWarning: The `size` parameter has been renamed to `height`; please update your code.\n",
      "  warnings.warn(msg, UserWarning)\n"
     ]
    },
    {
     "data": {
      "text/plain": [
       "<seaborn.axisgrid.PairGrid at 0x183a91cfeb0>"
      ]
     },
     "execution_count": 18,
     "metadata": {},
     "output_type": "execute_result"
    },
    {
     "data": {
      "image/png": "[encoded data removed]",
      "text/plain": [
       "<Figure size 576x576 with 20 Axes>"
      ]
     },
     "metadata": {
      "needs_background": "light"
     },
     "output_type": "display_data"
    }
   ],
   "source": [
    "sns.pairplot(bank_df[influential_features],size=2)"
   ]
  },
  {
   "cell_type": "code",
   "execution_count": 19,
   "id": "faa98d14",
   "metadata": {},
   "outputs": [
    {
     "data": {
      "text/html": [
       "<div>\n",
       "<style scoped>\n",
       "    .dataframe tbody tr th:only-of-type {\n",
       "        vertical-align: middle;\n",
       "    }\n",
       "\n",
       "    .dataframe tbody tr th {\n",
       "        vertical-align: top;\n",
       "    }\n",
       "\n",
       "    .dataframe thead th {\n",
       "        text-align: right;\n",
       "    }\n",
       "</style>\n",
       "<table border=\"1\" class=\"dataframe\">\n",
       "  <thead>\n",
       "    <tr style=\"text-align: right;\">\n",
       "      <th></th>\n",
       "      <th>Duration_in_Months</th>\n",
       "      <th>Credit_Amount</th>\n",
       "      <th>Num_CC</th>\n",
       "      <th>Age</th>\n",
       "    </tr>\n",
       "  </thead>\n",
       "  <tbody>\n",
       "    <tr>\n",
       "      <th>Duration_in_Months</th>\n",
       "      <td>1.000000</td>\n",
       "      <td>0.624984</td>\n",
       "      <td>-0.011284</td>\n",
       "      <td>-0.036136</td>\n",
       "    </tr>\n",
       "    <tr>\n",
       "      <th>Credit_Amount</th>\n",
       "      <td>0.624984</td>\n",
       "      <td>1.000000</td>\n",
       "      <td>0.020795</td>\n",
       "      <td>0.032716</td>\n",
       "    </tr>\n",
       "    <tr>\n",
       "      <th>Num_CC</th>\n",
       "      <td>-0.011284</td>\n",
       "      <td>0.020795</td>\n",
       "      <td>1.000000</td>\n",
       "      <td>0.149254</td>\n",
       "    </tr>\n",
       "    <tr>\n",
       "      <th>Age</th>\n",
       "      <td>-0.036136</td>\n",
       "      <td>0.032716</td>\n",
       "      <td>0.149254</td>\n",
       "      <td>1.000000</td>\n",
       "    </tr>\n",
       "  </tbody>\n",
       "</table>\n",
       "</div>"
      ],
      "text/plain": [
       "                    Duration_in_Months  Credit_Amount    Num_CC       Age\n",
       "Duration_in_Months            1.000000       0.624984 -0.011284 -0.036136\n",
       "Credit_Amount                 0.624984       1.000000  0.020795  0.032716\n",
       "Num_CC                       -0.011284       0.020795  1.000000  0.149254\n",
       "Age                          -0.036136       0.032716  0.149254  1.000000"
      ]
     },
     "execution_count": 19,
     "metadata": {},
     "output_type": "execute_result"
    }
   ],
   "source": [
    "bank_df[influential_features].corr()"
   ]
  },
  {
   "cell_type": "code",
   "execution_count": 20,
   "id": "bbb0d7b6",
   "metadata": {},
   "outputs": [
    {
     "data": {
      "text/plain": [
       "<AxesSubplot:>"
      ]
     },
     "execution_count": 20,
     "metadata": {},
     "output_type": "execute_result"
    },
    {
     "data": {
      "image/png": "[encoded data removed]",
      "text/plain": [
       "<Figure size 432x288 with 2 Axes>"
      ]
     },
     "metadata": {
      "needs_background": "light"
     },
     "output_type": "display_data"
    }
   ],
   "source": [
    "sns.heatmap(bank_df[influential_features].corr(),annot=True)"
   ]
  },
  {
   "cell_type": "code",
   "execution_count": 22,
   "id": "7d256e7f",
   "metadata": {},
   "outputs": [],
   "source": [
    "encoded_bank_df = pd.get_dummies(bank_df[x_features],\n",
    "                               drop_first=True)"
   ]
  },
  {
   "cell_type": "code",
   "execution_count": 23,
   "id": "6a910188",
   "metadata": {},
   "outputs": [],
   "source": [
    "X_features = encoded_bank_df.columns"
   ]
  },
  {
   "cell_type": "code",
   "execution_count": 24,
   "id": "46ee60bb",
   "metadata": {},
   "outputs": [
    {
     "data": {
      "text/plain": [
       "Index(['Duration_in_Months', 'Credit_Amount', 'Inst_Rt_Income',\n",
       "       'Current_Address_Yrs', 'Age', 'Num_CC', 'Dependents',\n",
       "       'Status_Checking_Acc_A12', 'Status_Checking_Acc_A13',\n",
       "       'Status_Checking_Acc_A14', 'Credit_History_A31', 'Credit_History_A32',\n",
       "       'Credit_History_A33', 'Credit_History_A34', 'Purposre_Credit_Taken_A41',\n",
       "       'Purposre_Credit_Taken_A410', 'Purposre_Credit_Taken_A42',\n",
       "       'Purposre_Credit_Taken_A43', 'Purposre_Credit_Taken_A44',\n",
       "       'Purposre_Credit_Taken_A45', 'Purposre_Credit_Taken_A46',\n",
       "       'Purposre_Credit_Taken_A48', 'Purposre_Credit_Taken_A49',\n",
       "       'Savings_Acc_A62', 'Savings_Acc_A63', 'Savings_Acc_A64',\n",
       "       'Savings_Acc_A65', 'Years_At_Present_Employment_A72',\n",
       "       'Years_At_Present_Employment_A73', 'Years_At_Present_Employment_A74',\n",
       "       'Years_At_Present_Employment_A75', 'Marital_Status_Gender_A92',\n",
       "       'Marital_Status_Gender_A93', 'Marital_Status_Gender_A94',\n",
       "       'Other_Debtors_Guarantors_A102', 'Other_Debtors_Guarantors_A103',\n",
       "       'Property_A122', 'Property_A123', 'Property_A124',\n",
       "       'Other_Inst_Plans _A142', 'Other_Inst_Plans _A143', 'Housing_A152',\n",
       "       'Housing_A153', 'Job_A172', 'Job_A173', 'Job_A174', 'Telephone_A192',\n",
       "       'Foreign_Worker_A202'],\n",
       "      dtype='object')"
      ]
     },
     "execution_count": 24,
     "metadata": {},
     "output_type": "execute_result"
    }
   ],
   "source": [
    "X_features"
   ]
  },
  {
   "cell_type": "code",
   "execution_count": 25,
   "id": "3378469c",
   "metadata": {},
   "outputs": [],
   "source": [
    "import statsmodels.api as sm"
   ]
  },
  {
   "cell_type": "code",
   "execution_count": 27,
   "id": "2de2c9f7",
   "metadata": {},
   "outputs": [],
   "source": [
    "y = bank_df.Default_On_Payment\n",
    "x = sm.add_constant(encoded_bank_df)"
   ]
  },
  {
   "cell_type": "code",
   "execution_count": 28,
   "id": "1c94ad22",
   "metadata": {},
   "outputs": [],
   "source": [
    "from sklearn.model_selection import train_test_split\n",
    "x_train,x_test,y_train,y_test = train_test_split(x,\n",
    "                                                 y,\n",
    "                                                 test_size=0.2,\n",
    "                                                 random_state=42)"
   ]
  },
  {
   "cell_type": "code",
   "execution_count": 29,
   "id": "f75d8a10",
   "metadata": {},
   "outputs": [
    {
     "name": "stdout",
     "output_type": "stream",
     "text": [
      "Optimization terminated successfully.\n",
      "         Current function value: 0.445323\n",
      "         Iterations 7\n"
     ]
    }
   ],
   "source": [
    "logit = sm.Logit(y_train,x_train)\n",
    "logit_model = logit.fit()"
   ]
  },
  {
   "cell_type": "code",
   "execution_count": 31,
   "id": "ad0dcce6",
   "metadata": {},
   "outputs": [
    {
     "data": {
      "text/html": [
       "<table class=\"simpletable\">\n",
       "<tr>\n",
       "        <td>Model:</td>               <td>Logit</td>       <td>Pseudo R-squared:</td>    <td>0.267</td>   \n",
       "</tr>\n",
       "<tr>\n",
       "  <td>Dependent Variable:</td> <td>Default_On_Payment</td>       <td>AIC:</td>         <td>3660.5800</td> \n",
       "</tr>\n",
       "<tr>\n",
       "         <td>Date:</td>         <td>2022-11-06 12:02</td>        <td>BIC:</td>         <td>3968.9885</td> \n",
       "</tr>\n",
       "<tr>\n",
       "   <td>No. Observations:</td>         <td>4000</td>         <td>Log-Likelihood:</td>    <td>-1781.3</td>  \n",
       "</tr>\n",
       "<tr>\n",
       "       <td>Df Model:</td>              <td>48</td>             <td>LL-Null:</td>        <td>-2429.7</td>  \n",
       "</tr>\n",
       "<tr>\n",
       "     <td>Df Residuals:</td>           <td>3951</td>          <td>LLR p-value:</td>    <td>4.5171e-240</td>\n",
       "</tr>\n",
       "<tr>\n",
       "      <td>Converged:</td>            <td>1.0000</td>            <td>Scale:</td>         <td>1.0000</td>   \n",
       "</tr>\n",
       "<tr>\n",
       "    <td>No. Iterations:</td>         <td>7.0000</td>               <td></td>               <td></td>      \n",
       "</tr>\n",
       "</table>\n",
       "<table class=\"simpletable\">\n",
       "<tr>\n",
       "                 <td></td>                  <th>Coef.</th>  <th>Std.Err.</th>     <th>z</th>     <th>P>|z|</th> <th>[0.025</th>  <th>0.975]</th> \n",
       "</tr>\n",
       "<tr>\n",
       "  <th>const</th>                           <td>0.6198</td>   <td>0.5468</td>   <td>1.1335</td>  <td>0.2570</td> <td>-0.4519</td> <td>1.6915</td> \n",
       "</tr>\n",
       "<tr>\n",
       "  <th>Duration_in_Months</th>              <td>0.0307</td>   <td>0.0047</td>   <td>6.5514</td>  <td>0.0000</td> <td>0.0215</td>  <td>0.0399</td> \n",
       "</tr>\n",
       "<tr>\n",
       "  <th>Credit_Amount</th>                   <td>0.0001</td>   <td>0.0000</td>   <td>5.3106</td>  <td>0.0000</td> <td>0.0001</td>  <td>0.0002</td> \n",
       "</tr>\n",
       "<tr>\n",
       "  <th>Inst_Rt_Income</th>                  <td>0.3274</td>   <td>0.0446</td>   <td>7.3324</td>  <td>0.0000</td> <td>0.2399</td>  <td>0.4149</td> \n",
       "</tr>\n",
       "<tr>\n",
       "  <th>Current_Address_Yrs</th>             <td>-0.0173</td>  <td>0.0434</td>   <td>-0.3986</td> <td>0.6902</td> <td>-0.1025</td> <td>0.0678</td> \n",
       "</tr>\n",
       "<tr>\n",
       "  <th>Age</th>                             <td>-0.0164</td>  <td>0.0047</td>   <td>-3.5128</td> <td>0.0004</td> <td>-0.0256</td> <td>-0.0073</td>\n",
       "</tr>\n",
       "<tr>\n",
       "  <th>Num_CC</th>                          <td>0.2244</td>   <td>0.0961</td>   <td>2.3343</td>  <td>0.0196</td> <td>0.0360</td>  <td>0.4128</td> \n",
       "</tr>\n",
       "<tr>\n",
       "  <th>Dependents</th>                      <td>0.3182</td>   <td>0.1252</td>   <td>2.5414</td>  <td>0.0110</td> <td>0.0728</td>  <td>0.5636</td> \n",
       "</tr>\n",
       "<tr>\n",
       "  <th>Status_Checking_Acc_A12</th>         <td>-0.4128</td>  <td>0.1093</td>   <td>-3.7761</td> <td>0.0002</td> <td>-0.6270</td> <td>-0.1985</td>\n",
       "</tr>\n",
       "<tr>\n",
       "  <th>Status_Checking_Acc_A13</th>         <td>-0.9061</td>  <td>0.1831</td>   <td>-4.9483</td> <td>0.0000</td> <td>-1.2651</td> <td>-0.5472</td>\n",
       "</tr>\n",
       "<tr>\n",
       "  <th>Status_Checking_Acc_A14</th>         <td>-1.7758</td>  <td>0.1177</td>  <td>-15.0893</td> <td>0.0000</td> <td>-2.0065</td> <td>-1.5452</td>\n",
       "</tr>\n",
       "<tr>\n",
       "  <th>Credit_History_A31</th>              <td>-0.0541</td>  <td>0.2763</td>   <td>-0.1957</td> <td>0.8448</td> <td>-0.5957</td> <td>0.4875</td> \n",
       "</tr>\n",
       "<tr>\n",
       "  <th>Credit_History_A32</th>              <td>-0.7640</td>  <td>0.2167</td>   <td>-3.5249</td> <td>0.0004</td> <td>-1.1888</td> <td>-0.3392</td>\n",
       "</tr>\n",
       "<tr>\n",
       "  <th>Credit_History_A33</th>              <td>-0.9838</td>  <td>0.2365</td>   <td>-4.1604</td> <td>0.0000</td> <td>-1.4472</td> <td>-0.5203</td>\n",
       "</tr>\n",
       "<tr>\n",
       "  <th>Credit_History_A34</th>              <td>-1.4669</td>  <td>0.2213</td>   <td>-6.6300</td> <td>0.0000</td> <td>-1.9006</td> <td>-1.0333</td>\n",
       "</tr>\n",
       "<tr>\n",
       "  <th>Purposre_Credit_Taken_A41</th>       <td>-1.6745</td>  <td>0.1922</td>   <td>-8.7146</td> <td>0.0000</td> <td>-2.0511</td> <td>-1.2979</td>\n",
       "</tr>\n",
       "<tr>\n",
       "  <th>Purposre_Credit_Taken_A410</th>      <td>-1.6115</td>  <td>0.3808</td>   <td>-4.2313</td> <td>0.0000</td> <td>-2.3579</td> <td>-0.8650</td>\n",
       "</tr>\n",
       "<tr>\n",
       "  <th>Purposre_Credit_Taken_A42</th>       <td>-0.7768</td>  <td>0.1310</td>   <td>-5.9314</td> <td>0.0000</td> <td>-1.0334</td> <td>-0.5201</td>\n",
       "</tr>\n",
       "<tr>\n",
       "  <th>Purposre_Credit_Taken_A43</th>       <td>-0.8798</td>  <td>0.1235</td>   <td>-7.1251</td> <td>0.0000</td> <td>-1.1218</td> <td>-0.6378</td>\n",
       "</tr>\n",
       "<tr>\n",
       "  <th>Purposre_Credit_Taken_A44</th>       <td>-0.4938</td>  <td>0.3640</td>   <td>-1.3567</td> <td>0.1749</td> <td>-1.2072</td> <td>0.2196</td> \n",
       "</tr>\n",
       "<tr>\n",
       "  <th>Purposre_Credit_Taken_A45</th>       <td>-0.0915</td>  <td>0.2799</td>   <td>-0.3270</td> <td>0.7436</td> <td>-0.6402</td> <td>0.4571</td> \n",
       "</tr>\n",
       "<tr>\n",
       "  <th>Purposre_Credit_Taken_A46</th>       <td>0.2428</td>   <td>0.2063</td>   <td>1.1769</td>  <td>0.2393</td> <td>-0.1616</td> <td>0.6472</td> \n",
       "</tr>\n",
       "<tr>\n",
       "  <th>Purposre_Credit_Taken_A48</th>       <td>-2.3519</td>  <td>0.6810</td>   <td>-3.4536</td> <td>0.0006</td> <td>-3.6866</td> <td>-1.0172</td>\n",
       "</tr>\n",
       "<tr>\n",
       "  <th>Purposre_Credit_Taken_A49</th>       <td>-0.7762</td>  <td>0.1657</td>   <td>-4.6853</td> <td>0.0000</td> <td>-1.1009</td> <td>-0.4515</td>\n",
       "</tr>\n",
       "<tr>\n",
       "  <th>Savings_Acc_A62</th>                 <td>-0.3222</td>  <td>0.1420</td>   <td>-2.2692</td> <td>0.0233</td> <td>-0.6006</td> <td>-0.0439</td>\n",
       "</tr>\n",
       "<tr>\n",
       "  <th>Savings_Acc_A63</th>                 <td>-0.1998</td>  <td>0.1985</td>   <td>-1.0068</td> <td>0.3140</td> <td>-0.5889</td> <td>0.1892</td> \n",
       "</tr>\n",
       "<tr>\n",
       "  <th>Savings_Acc_A64</th>                 <td>-1.3338</td>  <td>0.2634</td>   <td>-5.0646</td> <td>0.0000</td> <td>-1.8500</td> <td>-0.8176</td>\n",
       "</tr>\n",
       "<tr>\n",
       "  <th>Savings_Acc_A65</th>                 <td>-0.9022</td>  <td>0.1332</td>   <td>-6.7752</td> <td>0.0000</td> <td>-1.1632</td> <td>-0.6412</td>\n",
       "</tr>\n",
       "<tr>\n",
       "  <th>Years_At_Present_Employment_A72</th> <td>-0.1618</td>  <td>0.2146</td>   <td>-0.7540</td> <td>0.4508</td> <td>-0.5823</td> <td>0.2588</td> \n",
       "</tr>\n",
       "<tr>\n",
       "  <th>Years_At_Present_Employment_A73</th> <td>-0.2521</td>  <td>0.2058</td>   <td>-1.2253</td> <td>0.2205</td> <td>-0.6554</td> <td>0.1512</td> \n",
       "</tr>\n",
       "<tr>\n",
       "  <th>Years_At_Present_Employment_A74</th> <td>-0.8385</td>  <td>0.2231</td>   <td>-3.7580</td> <td>0.0002</td> <td>-1.2758</td> <td>-0.4012</td>\n",
       "</tr>\n",
       "<tr>\n",
       "  <th>Years_At_Present_Employment_A75</th> <td>-0.3548</td>  <td>0.2083</td>   <td>-1.7033</td> <td>0.0885</td> <td>-0.7631</td> <td>0.0535</td> \n",
       "</tr>\n",
       "<tr>\n",
       "  <th>Marital_Status_Gender_A92</th>       <td>-0.3057</td>  <td>0.1914</td>   <td>-1.5975</td> <td>0.1102</td> <td>-0.6808</td> <td>0.0694</td> \n",
       "</tr>\n",
       "<tr>\n",
       "  <th>Marital_Status_Gender_A93</th>       <td>-0.7948</td>  <td>0.1880</td>   <td>-4.2286</td> <td>0.0000</td> <td>-1.1632</td> <td>-0.4264</td>\n",
       "</tr>\n",
       "<tr>\n",
       "  <th>Marital_Status_Gender_A94</th>       <td>-0.2913</td>  <td>0.2241</td>   <td>-1.3004</td> <td>0.1935</td> <td>-0.7305</td> <td>0.1478</td> \n",
       "</tr>\n",
       "<tr>\n",
       "  <th>Other_Debtors_Guarantors_A102</th>   <td>0.5300</td>   <td>0.2060</td>   <td>2.5731</td>  <td>0.0101</td> <td>0.1263</td>  <td>0.9336</td> \n",
       "</tr>\n",
       "<tr>\n",
       "  <th>Other_Debtors_Guarantors_A103</th>   <td>-0.8969</td>  <td>0.2152</td>   <td>-4.1679</td> <td>0.0000</td> <td>-1.3187</td> <td>-0.4751</td>\n",
       "</tr>\n",
       "<tr>\n",
       "  <th>Property_A122</th>                   <td>0.2237</td>   <td>0.1268</td>   <td>1.7633</td>  <td>0.0778</td> <td>-0.0249</td> <td>0.4723</td> \n",
       "</tr>\n",
       "<tr>\n",
       "  <th>Property_A123</th>                   <td>0.2060</td>   <td>0.1180</td>   <td>1.7458</td>  <td>0.0808</td> <td>-0.0253</td> <td>0.4372</td> \n",
       "</tr>\n",
       "<tr>\n",
       "  <th>Property_A124</th>                   <td>0.7341</td>   <td>0.2177</td>   <td>3.3722</td>  <td>0.0007</td> <td>0.3074</td>  <td>1.1608</td> \n",
       "</tr>\n",
       "<tr>\n",
       "  <th>Other_Inst_Plans _A142</th>          <td>-0.1058</td>  <td>0.2067</td>   <td>-0.5120</td> <td>0.6086</td> <td>-0.5110</td> <td>0.2993</td> \n",
       "</tr>\n",
       "<tr>\n",
       "  <th>Other_Inst_Plans _A143</th>          <td>-0.6693</td>  <td>0.1194</td>   <td>-5.6071</td> <td>0.0000</td> <td>-0.9032</td> <td>-0.4353</td>\n",
       "</tr>\n",
       "<tr>\n",
       "  <th>Housing_A152</th>                    <td>-0.5387</td>  <td>0.1177</td>   <td>-4.5776</td> <td>0.0000</td> <td>-0.7694</td> <td>-0.3081</td>\n",
       "</tr>\n",
       "<tr>\n",
       "  <th>Housing_A153</th>                    <td>-0.7297</td>  <td>0.2466</td>   <td>-2.9591</td> <td>0.0031</td> <td>-1.2131</td> <td>-0.2464</td>\n",
       "</tr>\n",
       "<tr>\n",
       "  <th>Job_A172</th>                        <td>0.6706</td>   <td>0.3418</td>   <td>1.9621</td>  <td>0.0497</td> <td>0.0007</td>  <td>1.3404</td> \n",
       "</tr>\n",
       "<tr>\n",
       "  <th>Job_A173</th>                        <td>0.7110</td>   <td>0.3296</td>   <td>2.1570</td>  <td>0.0310</td> <td>0.0649</td>  <td>1.3570</td> \n",
       "</tr>\n",
       "<tr>\n",
       "  <th>Job_A174</th>                        <td>0.5580</td>   <td>0.3326</td>   <td>1.6776</td>  <td>0.0934</td> <td>-0.0939</td> <td>1.2099</td> \n",
       "</tr>\n",
       "<tr>\n",
       "  <th>Telephone_A192</th>                  <td>-0.2700</td>  <td>0.1006</td>   <td>-2.6853</td> <td>0.0072</td> <td>-0.4671</td> <td>-0.0729</td>\n",
       "</tr>\n",
       "<tr>\n",
       "  <th>Foreign_Worker_A202</th>             <td>-1.7414</td>  <td>0.3369</td>   <td>-5.1692</td> <td>0.0000</td> <td>-2.4016</td> <td>-1.0811</td>\n",
       "</tr>\n",
       "</table>"
      ],
      "text/plain": [
       "<class 'statsmodels.iolib.summary2.Summary'>\n",
       "\"\"\"\n",
       "                                 Results: Logit\n",
       "================================================================================\n",
       "Model:                  Logit                  Pseudo R-squared:     0.267      \n",
       "Dependent Variable:     Default_On_Payment     AIC:                  3660.5800  \n",
       "Date:                   2022-11-06 12:02       BIC:                  3968.9885  \n",
       "No. Observations:       4000                   Log-Likelihood:       -1781.3    \n",
       "Df Model:               48                     LL-Null:              -2429.7    \n",
       "Df Residuals:           3951                   LLR p-value:          4.5171e-240\n",
       "Converged:              1.0000                 Scale:                1.0000     \n",
       "No. Iterations:         7.0000                                                  \n",
       "--------------------------------------------------------------------------------\n",
       "                                 Coef.  Std.Err.    z     P>|z|   [0.025  0.975]\n",
       "--------------------------------------------------------------------------------\n",
       "const                            0.6198   0.5468   1.1335 0.2570 -0.4519  1.6915\n",
       "Duration_in_Months               0.0307   0.0047   6.5514 0.0000  0.0215  0.0399\n",
       "Credit_Amount                    0.0001   0.0000   5.3106 0.0000  0.0001  0.0002\n",
       "Inst_Rt_Income                   0.3274   0.0446   7.3324 0.0000  0.2399  0.4149\n",
       "Current_Address_Yrs             -0.0173   0.0434  -0.3986 0.6902 -0.1025  0.0678\n",
       "Age                             -0.0164   0.0047  -3.5128 0.0004 -0.0256 -0.0073\n",
       "Num_CC                           0.2244   0.0961   2.3343 0.0196  0.0360  0.4128\n",
       "Dependents                       0.3182   0.1252   2.5414 0.0110  0.0728  0.5636\n",
       "Status_Checking_Acc_A12         -0.4128   0.1093  -3.7761 0.0002 -0.6270 -0.1985\n",
       "Status_Checking_Acc_A13         -0.9061   0.1831  -4.9483 0.0000 -1.2651 -0.5472\n",
       "Status_Checking_Acc_A14         -1.7758   0.1177 -15.0893 0.0000 -2.0065 -1.5452\n",
       "Credit_History_A31              -0.0541   0.2763  -0.1957 0.8448 -0.5957  0.4875\n",
       "Credit_History_A32              -0.7640   0.2167  -3.5249 0.0004 -1.1888 -0.3392\n",
       "Credit_History_A33              -0.9838   0.2365  -4.1604 0.0000 -1.4472 -0.5203\n",
       "Credit_History_A34              -1.4669   0.2213  -6.6300 0.0000 -1.9006 -1.0333\n",
       "Purposre_Credit_Taken_A41       -1.6745   0.1922  -8.7146 0.0000 -2.0511 -1.2979\n",
       "Purposre_Credit_Taken_A410      -1.6115   0.3808  -4.2313 0.0000 -2.3579 -0.8650\n",
       "Purposre_Credit_Taken_A42       -0.7768   0.1310  -5.9314 0.0000 -1.0334 -0.5201\n",
       "Purposre_Credit_Taken_A43       -0.8798   0.1235  -7.1251 0.0000 -1.1218 -0.6378\n",
       "Purposre_Credit_Taken_A44       -0.4938   0.3640  -1.3567 0.1749 -1.2072  0.2196\n",
       "Purposre_Credit_Taken_A45       -0.0915   0.2799  -0.3270 0.7436 -0.6402  0.4571\n",
       "Purposre_Credit_Taken_A46        0.2428   0.2063   1.1769 0.2393 -0.1616  0.6472\n",
       "Purposre_Credit_Taken_A48       -2.3519   0.6810  -3.4536 0.0006 -3.6866 -1.0172\n",
       "Purposre_Credit_Taken_A49       -0.7762   0.1657  -4.6853 0.0000 -1.1009 -0.4515\n",
       "Savings_Acc_A62                 -0.3222   0.1420  -2.2692 0.0233 -0.6006 -0.0439\n",
       "Savings_Acc_A63                 -0.1998   0.1985  -1.0068 0.3140 -0.5889  0.1892\n",
       "Savings_Acc_A64                 -1.3338   0.2634  -5.0646 0.0000 -1.8500 -0.8176\n",
       "Savings_Acc_A65                 -0.9022   0.1332  -6.7752 0.0000 -1.1632 -0.6412\n",
       "Years_At_Present_Employment_A72 -0.1618   0.2146  -0.7540 0.4508 -0.5823  0.2588\n",
       "Years_At_Present_Employment_A73 -0.2521   0.2058  -1.2253 0.2205 -0.6554  0.1512\n",
       "Years_At_Present_Employment_A74 -0.8385   0.2231  -3.7580 0.0002 -1.2758 -0.4012\n",
       "Years_At_Present_Employment_A75 -0.3548   0.2083  -1.7033 0.0885 -0.7631  0.0535\n",
       "Marital_Status_Gender_A92       -0.3057   0.1914  -1.5975 0.1102 -0.6808  0.0694\n",
       "Marital_Status_Gender_A93       -0.7948   0.1880  -4.2286 0.0000 -1.1632 -0.4264\n",
       "Marital_Status_Gender_A94       -0.2913   0.2241  -1.3004 0.1935 -0.7305  0.1478\n",
       "Other_Debtors_Guarantors_A102    0.5300   0.2060   2.5731 0.0101  0.1263  0.9336\n",
       "Other_Debtors_Guarantors_A103   -0.8969   0.2152  -4.1679 0.0000 -1.3187 -0.4751\n",
       "Property_A122                    0.2237   0.1268   1.7633 0.0778 -0.0249  0.4723\n",
       "Property_A123                    0.2060   0.1180   1.7458 0.0808 -0.0253  0.4372\n",
       "Property_A124                    0.7341   0.2177   3.3722 0.0007  0.3074  1.1608\n",
       "Other_Inst_Plans _A142          -0.1058   0.2067  -0.5120 0.6086 -0.5110  0.2993\n",
       "Other_Inst_Plans _A143          -0.6693   0.1194  -5.6071 0.0000 -0.9032 -0.4353\n",
       "Housing_A152                    -0.5387   0.1177  -4.5776 0.0000 -0.7694 -0.3081\n",
       "Housing_A153                    -0.7297   0.2466  -2.9591 0.0031 -1.2131 -0.2464\n",
       "Job_A172                         0.6706   0.3418   1.9621 0.0497  0.0007  1.3404\n",
       "Job_A173                         0.7110   0.3296   2.1570 0.0310  0.0649  1.3570\n",
       "Job_A174                         0.5580   0.3326   1.6776 0.0934 -0.0939  1.2099\n",
       "Telephone_A192                  -0.2700   0.1006  -2.6853 0.0072 -0.4671 -0.0729\n",
       "Foreign_Worker_A202             -1.7414   0.3369  -5.1692 0.0000 -2.4016 -1.0811\n",
       "================================================================================\n",
       "\n",
       "\"\"\""
      ]
     },
     "execution_count": 31,
     "metadata": {},
     "output_type": "execute_result"
    }
   ],
   "source": [
    "logit_model.summary2()"
   ]
  },
  {
   "cell_type": "code",
   "execution_count": 33,
   "id": "a90d7dac",
   "metadata": {},
   "outputs": [
    {
     "data": {
      "text/plain": [
       "['Duration_in_Months',\n",
       " 'Credit_Amount',\n",
       " 'Inst_Rt_Income',\n",
       " 'Age',\n",
       " 'Num_CC',\n",
       " 'Dependents',\n",
       " 'Status_Checking_Acc_A12',\n",
       " 'Status_Checking_Acc_A13',\n",
       " 'Status_Checking_Acc_A14',\n",
       " 'Credit_History_A32',\n",
       " 'Credit_History_A33',\n",
       " 'Credit_History_A34',\n",
       " 'Purposre_Credit_Taken_A41',\n",
       " 'Purposre_Credit_Taken_A410',\n",
       " 'Purposre_Credit_Taken_A42',\n",
       " 'Purposre_Credit_Taken_A43',\n",
       " 'Purposre_Credit_Taken_A48',\n",
       " 'Purposre_Credit_Taken_A49',\n",
       " 'Savings_Acc_A62',\n",
       " 'Savings_Acc_A64',\n",
       " 'Savings_Acc_A65',\n",
       " 'Years_At_Present_Employment_A74',\n",
       " 'Marital_Status_Gender_A93',\n",
       " 'Other_Debtors_Guarantors_A102',\n",
       " 'Other_Debtors_Guarantors_A103',\n",
       " 'Property_A124',\n",
       " 'Other_Inst_Plans _A143',\n",
       " 'Housing_A152',\n",
       " 'Housing_A153',\n",
       " 'Job_A172',\n",
       " 'Job_A173',\n",
       " 'Telephone_A192',\n",
       " 'Foreign_Worker_A202']"
      ]
     },
     "execution_count": 33,
     "metadata": {},
     "output_type": "execute_result"
    }
   ],
   "source": [
    "def get_significant_vars( lm ):\n",
    "    var_p_vals_df = pd.DataFrame(lm.pvalues)\n",
    "    var_p_vals_df['vars']=var_p_vals_df.index\n",
    "    var_p_vals_df.columns = ['pvals','vars']\n",
    "    \n",
    "    return list(var_p_vals_df[var_p_vals_df.pvals<=0.05]['vars'])\n",
    "\n",
    "significant_vars = get_significant_vars(logit_model)\n",
    "significant_vars"
   ]
  },
  {
   "cell_type": "code",
   "execution_count": 36,
   "id": "33030483",
   "metadata": {},
   "outputs": [
    {
     "name": "stdout",
     "output_type": "stream",
     "text": [
      "Optimization terminated successfully.\n",
      "         Current function value: 0.447644\n",
      "         Iterations 7\n"
     ]
    }
   ],
   "source": [
    "final_logit = sm.Logit(y_train,\n",
    "                       sm.add_constant(x_train[significant_vars])).fit()"
   ]
  },
  {
   "cell_type": "code",
   "execution_count": 37,
   "id": "8172f531",
   "metadata": {},
   "outputs": [
    {
     "data": {
      "text/html": [
       "<table class=\"simpletable\">\n",
       "<tr>\n",
       "        <td>Model:</td>               <td>Logit</td>       <td>Pseudo R-squared:</td>    <td>0.263</td>   \n",
       "</tr>\n",
       "<tr>\n",
       "  <td>Dependent Variable:</td> <td>Default_On_Payment</td>       <td>AIC:</td>         <td>3649.1517</td> \n",
       "</tr>\n",
       "<tr>\n",
       "         <td>Date:</td>         <td>2022-11-06 12:09</td>        <td>BIC:</td>         <td>3863.1494</td> \n",
       "</tr>\n",
       "<tr>\n",
       "   <td>No. Observations:</td>         <td>4000</td>         <td>Log-Likelihood:</td>    <td>-1790.6</td>  \n",
       "</tr>\n",
       "<tr>\n",
       "       <td>Df Model:</td>              <td>33</td>             <td>LL-Null:</td>        <td>-2429.7</td>  \n",
       "</tr>\n",
       "<tr>\n",
       "     <td>Df Residuals:</td>           <td>3966</td>          <td>LLR p-value:</td>    <td>1.5623e-247</td>\n",
       "</tr>\n",
       "<tr>\n",
       "      <td>Converged:</td>            <td>1.0000</td>            <td>Scale:</td>         <td>1.0000</td>   \n",
       "</tr>\n",
       "<tr>\n",
       "    <td>No. Iterations:</td>         <td>7.0000</td>               <td></td>               <td></td>      \n",
       "</tr>\n",
       "</table>\n",
       "<table class=\"simpletable\">\n",
       "<tr>\n",
       "                 <td></td>                  <th>Coef.</th>  <th>Std.Err.</th>     <th>z</th>     <th>P>|z|</th> <th>[0.025</th>  <th>0.975]</th> \n",
       "</tr>\n",
       "<tr>\n",
       "  <th>const</th>                           <td>0.6663</td>   <td>0.3582</td>   <td>1.8601</td>  <td>0.0629</td> <td>-0.0358</td> <td>1.3684</td> \n",
       "</tr>\n",
       "<tr>\n",
       "  <th>Duration_in_Months</th>              <td>0.0309</td>   <td>0.0046</td>   <td>6.6703</td>  <td>0.0000</td> <td>0.0218</td>  <td>0.0400</td> \n",
       "</tr>\n",
       "<tr>\n",
       "  <th>Credit_Amount</th>                   <td>0.0001</td>   <td>0.0000</td>   <td>5.8692</td>  <td>0.0000</td> <td>0.0001</td>  <td>0.0002</td> \n",
       "</tr>\n",
       "<tr>\n",
       "  <th>Inst_Rt_Income</th>                  <td>0.3332</td>   <td>0.0438</td>   <td>7.6035</td>  <td>0.0000</td> <td>0.2473</td>  <td>0.4191</td> \n",
       "</tr>\n",
       "<tr>\n",
       "  <th>Age</th>                             <td>-0.0175</td>  <td>0.0043</td>   <td>-4.0606</td> <td>0.0000</td> <td>-0.0260</td> <td>-0.0091</td>\n",
       "</tr>\n",
       "<tr>\n",
       "  <th>Num_CC</th>                          <td>0.2070</td>   <td>0.0917</td>   <td>2.2580</td>  <td>0.0239</td> <td>0.0273</td>  <td>0.3868</td> \n",
       "</tr>\n",
       "<tr>\n",
       "  <th>Dependents</th>                      <td>0.3301</td>   <td>0.1239</td>   <td>2.6647</td>  <td>0.0077</td> <td>0.0873</td>  <td>0.5728</td> \n",
       "</tr>\n",
       "<tr>\n",
       "  <th>Status_Checking_Acc_A12</th>         <td>-0.4189</td>  <td>0.1068</td>   <td>-3.9214</td> <td>0.0001</td> <td>-0.6283</td> <td>-0.2095</td>\n",
       "</tr>\n",
       "<tr>\n",
       "  <th>Status_Checking_Acc_A13</th>         <td>-0.8932</td>  <td>0.1785</td>   <td>-5.0035</td> <td>0.0000</td> <td>-1.2431</td> <td>-0.5433</td>\n",
       "</tr>\n",
       "<tr>\n",
       "  <th>Status_Checking_Acc_A14</th>         <td>-1.8038</td>  <td>0.1142</td>  <td>-15.7948</td> <td>0.0000</td> <td>-2.0276</td> <td>-1.5799</td>\n",
       "</tr>\n",
       "<tr>\n",
       "  <th>Credit_History_A32</th>              <td>-0.7189</td>  <td>0.1507</td>   <td>-4.7694</td> <td>0.0000</td> <td>-1.0144</td> <td>-0.4235</td>\n",
       "</tr>\n",
       "<tr>\n",
       "  <th>Credit_History_A33</th>              <td>-0.9009</td>  <td>0.1889</td>   <td>-4.7704</td> <td>0.0000</td> <td>-1.2710</td> <td>-0.5308</td>\n",
       "</tr>\n",
       "<tr>\n",
       "  <th>Credit_History_A34</th>              <td>-1.4217</td>  <td>0.1700</td>   <td>-8.3613</td> <td>0.0000</td> <td>-1.7550</td> <td>-1.0885</td>\n",
       "</tr>\n",
       "<tr>\n",
       "  <th>Purposre_Credit_Taken_A41</th>       <td>-1.6914</td>  <td>0.1864</td>   <td>-9.0743</td> <td>0.0000</td> <td>-2.0567</td> <td>-1.3261</td>\n",
       "</tr>\n",
       "<tr>\n",
       "  <th>Purposre_Credit_Taken_A410</th>      <td>-1.6069</td>  <td>0.3722</td>   <td>-4.3169</td> <td>0.0000</td> <td>-2.3364</td> <td>-0.8773</td>\n",
       "</tr>\n",
       "<tr>\n",
       "  <th>Purposre_Credit_Taken_A42</th>       <td>-0.7271</td>  <td>0.1209</td>   <td>-6.0124</td> <td>0.0000</td> <td>-0.9641</td> <td>-0.4900</td>\n",
       "</tr>\n",
       "<tr>\n",
       "  <th>Purposre_Credit_Taken_A43</th>       <td>-0.9161</td>  <td>0.1139</td>   <td>-8.0463</td> <td>0.0000</td> <td>-1.1393</td> <td>-0.6930</td>\n",
       "</tr>\n",
       "<tr>\n",
       "  <th>Purposre_Credit_Taken_A48</th>       <td>-2.3635</td>  <td>0.6698</td>   <td>-3.5286</td> <td>0.0004</td> <td>-3.6762</td> <td>-1.0507</td>\n",
       "</tr>\n",
       "<tr>\n",
       "  <th>Purposre_Credit_Taken_A49</th>       <td>-0.7726</td>  <td>0.1571</td>   <td>-4.9170</td> <td>0.0000</td> <td>-1.0805</td> <td>-0.4646</td>\n",
       "</tr>\n",
       "<tr>\n",
       "  <th>Savings_Acc_A62</th>                 <td>-0.2702</td>  <td>0.1385</td>   <td>-1.9513</td> <td>0.0510</td> <td>-0.5416</td> <td>0.0012</td> \n",
       "</tr>\n",
       "<tr>\n",
       "  <th>Savings_Acc_A64</th>                 <td>-1.3685</td>  <td>0.2594</td>   <td>-5.2767</td> <td>0.0000</td> <td>-1.8769</td> <td>-0.8602</td>\n",
       "</tr>\n",
       "<tr>\n",
       "  <th>Savings_Acc_A65</th>                 <td>-0.9328</td>  <td>0.1301</td>   <td>-7.1680</td> <td>0.0000</td> <td>-1.1879</td> <td>-0.6778</td>\n",
       "</tr>\n",
       "<tr>\n",
       "  <th>Years_At_Present_Employment_A74</th> <td>-0.5875</td>  <td>0.1208</td>   <td>-4.8632</td> <td>0.0000</td> <td>-0.8243</td> <td>-0.3507</td>\n",
       "</tr>\n",
       "<tr>\n",
       "  <th>Marital_Status_Gender_A93</th>       <td>-0.5525</td>  <td>0.0945</td>   <td>-5.8443</td> <td>0.0000</td> <td>-0.7378</td> <td>-0.3672</td>\n",
       "</tr>\n",
       "<tr>\n",
       "  <th>Other_Debtors_Guarantors_A102</th>   <td>0.5138</td>   <td>0.2050</td>   <td>2.5065</td>  <td>0.0122</td> <td>0.1120</td>  <td>0.9155</td> \n",
       "</tr>\n",
       "<tr>\n",
       "  <th>Other_Debtors_Guarantors_A103</th>   <td>-0.9310</td>  <td>0.2098</td>   <td>-4.4381</td> <td>0.0000</td> <td>-1.3421</td> <td>-0.5198</td>\n",
       "</tr>\n",
       "<tr>\n",
       "  <th>Property_A124</th>                   <td>0.5609</td>   <td>0.1994</td>   <td>2.8132</td>  <td>0.0049</td> <td>0.1701</td>  <td>0.9517</td> \n",
       "</tr>\n",
       "<tr>\n",
       "  <th>Other_Inst_Plans _A143</th>          <td>-0.6565</td>  <td>0.1056</td>   <td>-6.2191</td> <td>0.0000</td> <td>-0.8634</td> <td>-0.4496</td>\n",
       "</tr>\n",
       "<tr>\n",
       "  <th>Housing_A152</th>                    <td>-0.5064</td>  <td>0.1117</td>   <td>-4.5343</td> <td>0.0000</td> <td>-0.7253</td> <td>-0.2875</td>\n",
       "</tr>\n",
       "<tr>\n",
       "  <th>Housing_A153</th>                    <td>-0.6925</td>  <td>0.2448</td>   <td>-2.8283</td> <td>0.0047</td> <td>-1.1724</td> <td>-0.2126</td>\n",
       "</tr>\n",
       "<tr>\n",
       "  <th>Job_A172</th>                        <td>0.0936</td>   <td>0.1561</td>   <td>0.5995</td>  <td>0.5488</td> <td>-0.2124</td> <td>0.3996</td> \n",
       "</tr>\n",
       "<tr>\n",
       "  <th>Job_A173</th>                        <td>0.1587</td>   <td>0.1270</td>   <td>1.2492</td>  <td>0.2116</td> <td>-0.0903</td> <td>0.4076</td> \n",
       "</tr>\n",
       "<tr>\n",
       "  <th>Telephone_A192</th>                  <td>-0.2409</td>  <td>0.0977</td>   <td>-2.4663</td> <td>0.0137</td> <td>-0.4324</td> <td>-0.0495</td>\n",
       "</tr>\n",
       "<tr>\n",
       "  <th>Foreign_Worker_A202</th>             <td>-1.7056</td>  <td>0.3309</td>   <td>-5.1546</td> <td>0.0000</td> <td>-2.3541</td> <td>-1.0570</td>\n",
       "</tr>\n",
       "</table>"
      ],
      "text/plain": [
       "<class 'statsmodels.iolib.summary2.Summary'>\n",
       "\"\"\"\n",
       "                                 Results: Logit\n",
       "================================================================================\n",
       "Model:                  Logit                  Pseudo R-squared:     0.263      \n",
       "Dependent Variable:     Default_On_Payment     AIC:                  3649.1517  \n",
       "Date:                   2022-11-06 12:09       BIC:                  3863.1494  \n",
       "No. Observations:       4000                   Log-Likelihood:       -1790.6    \n",
       "Df Model:               33                     LL-Null:              -2429.7    \n",
       "Df Residuals:           3966                   LLR p-value:          1.5623e-247\n",
       "Converged:              1.0000                 Scale:                1.0000     \n",
       "No. Iterations:         7.0000                                                  \n",
       "--------------------------------------------------------------------------------\n",
       "                                 Coef.  Std.Err.    z     P>|z|   [0.025  0.975]\n",
       "--------------------------------------------------------------------------------\n",
       "const                            0.6663   0.3582   1.8601 0.0629 -0.0358  1.3684\n",
       "Duration_in_Months               0.0309   0.0046   6.6703 0.0000  0.0218  0.0400\n",
       "Credit_Amount                    0.0001   0.0000   5.8692 0.0000  0.0001  0.0002\n",
       "Inst_Rt_Income                   0.3332   0.0438   7.6035 0.0000  0.2473  0.4191\n",
       "Age                             -0.0175   0.0043  -4.0606 0.0000 -0.0260 -0.0091\n",
       "Num_CC                           0.2070   0.0917   2.2580 0.0239  0.0273  0.3868\n",
       "Dependents                       0.3301   0.1239   2.6647 0.0077  0.0873  0.5728\n",
       "Status_Checking_Acc_A12         -0.4189   0.1068  -3.9214 0.0001 -0.6283 -0.2095\n",
       "Status_Checking_Acc_A13         -0.8932   0.1785  -5.0035 0.0000 -1.2431 -0.5433\n",
       "Status_Checking_Acc_A14         -1.8038   0.1142 -15.7948 0.0000 -2.0276 -1.5799\n",
       "Credit_History_A32              -0.7189   0.1507  -4.7694 0.0000 -1.0144 -0.4235\n",
       "Credit_History_A33              -0.9009   0.1889  -4.7704 0.0000 -1.2710 -0.5308\n",
       "Credit_History_A34              -1.4217   0.1700  -8.3613 0.0000 -1.7550 -1.0885\n",
       "Purposre_Credit_Taken_A41       -1.6914   0.1864  -9.0743 0.0000 -2.0567 -1.3261\n",
       "Purposre_Credit_Taken_A410      -1.6069   0.3722  -4.3169 0.0000 -2.3364 -0.8773\n",
       "Purposre_Credit_Taken_A42       -0.7271   0.1209  -6.0124 0.0000 -0.9641 -0.4900\n",
       "Purposre_Credit_Taken_A43       -0.9161   0.1139  -8.0463 0.0000 -1.1393 -0.6930\n",
       "Purposre_Credit_Taken_A48       -2.3635   0.6698  -3.5286 0.0004 -3.6762 -1.0507\n",
       "Purposre_Credit_Taken_A49       -0.7726   0.1571  -4.9170 0.0000 -1.0805 -0.4646\n",
       "Savings_Acc_A62                 -0.2702   0.1385  -1.9513 0.0510 -0.5416  0.0012\n",
       "Savings_Acc_A64                 -1.3685   0.2594  -5.2767 0.0000 -1.8769 -0.8602\n",
       "Savings_Acc_A65                 -0.9328   0.1301  -7.1680 0.0000 -1.1879 -0.6778\n",
       "Years_At_Present_Employment_A74 -0.5875   0.1208  -4.8632 0.0000 -0.8243 -0.3507\n",
       "Marital_Status_Gender_A93       -0.5525   0.0945  -5.8443 0.0000 -0.7378 -0.3672\n",
       "Other_Debtors_Guarantors_A102    0.5138   0.2050   2.5065 0.0122  0.1120  0.9155\n",
       "Other_Debtors_Guarantors_A103   -0.9310   0.2098  -4.4381 0.0000 -1.3421 -0.5198\n",
       "Property_A124                    0.5609   0.1994   2.8132 0.0049  0.1701  0.9517\n",
       "Other_Inst_Plans _A143          -0.6565   0.1056  -6.2191 0.0000 -0.8634 -0.4496\n",
       "Housing_A152                    -0.5064   0.1117  -4.5343 0.0000 -0.7253 -0.2875\n",
       "Housing_A153                    -0.6925   0.2448  -2.8283 0.0047 -1.1724 -0.2126\n",
       "Job_A172                         0.0936   0.1561   0.5995 0.5488 -0.2124  0.3996\n",
       "Job_A173                         0.1587   0.1270   1.2492 0.2116 -0.0903  0.4076\n",
       "Telephone_A192                  -0.2409   0.0977  -2.4663 0.0137 -0.4324 -0.0495\n",
       "Foreign_Worker_A202             -1.7056   0.3309  -5.1546 0.0000 -2.3541 -1.0570\n",
       "================================================================================\n",
       "\n",
       "\"\"\""
      ]
     },
     "execution_count": 37,
     "metadata": {},
     "output_type": "execute_result"
    }
   ],
   "source": [
    "final_logit.summary2()"
   ]
  },
  {
   "cell_type": "code",
   "execution_count": 38,
   "id": "2695508d",
   "metadata": {},
   "outputs": [
    {
     "data": {
      "text/plain": [
       "['Duration_in_Months',\n",
       " 'Credit_Amount',\n",
       " 'Inst_Rt_Income',\n",
       " 'Age',\n",
       " 'Num_CC',\n",
       " 'Dependents',\n",
       " 'Status_Checking_Acc_A12',\n",
       " 'Status_Checking_Acc_A13',\n",
       " 'Status_Checking_Acc_A14',\n",
       " 'Credit_History_A32',\n",
       " 'Credit_History_A33',\n",
       " 'Credit_History_A34',\n",
       " 'Purposre_Credit_Taken_A41',\n",
       " 'Purposre_Credit_Taken_A410',\n",
       " 'Purposre_Credit_Taken_A42',\n",
       " 'Purposre_Credit_Taken_A43',\n",
       " 'Purposre_Credit_Taken_A48',\n",
       " 'Purposre_Credit_Taken_A49',\n",
       " 'Savings_Acc_A64',\n",
       " 'Savings_Acc_A65',\n",
       " 'Years_At_Present_Employment_A74',\n",
       " 'Marital_Status_Gender_A93',\n",
       " 'Other_Debtors_Guarantors_A102',\n",
       " 'Other_Debtors_Guarantors_A103',\n",
       " 'Property_A124',\n",
       " 'Other_Inst_Plans _A143',\n",
       " 'Housing_A152',\n",
       " 'Housing_A153',\n",
       " 'Telephone_A192',\n",
       " 'Foreign_Worker_A202']"
      ]
     },
     "execution_count": 38,
     "metadata": {},
     "output_type": "execute_result"
    }
   ],
   "source": [
    "significant_vars1 = get_significant_vars(final_logit)\n",
    "significant_vars1"
   ]
  },
  {
   "cell_type": "code",
   "execution_count": 39,
   "id": "9e264415",
   "metadata": {},
   "outputs": [
    {
     "name": "stdout",
     "output_type": "stream",
     "text": [
      "Optimization terminated successfully.\n",
      "         Current function value: 0.448315\n",
      "         Iterations 7\n"
     ]
    }
   ],
   "source": [
    "final_logit1 = sm.Logit(y_train,\n",
    "                        sm.add_constant(x_train[significant_vars1])).fit()"
   ]
  },
  {
   "cell_type": "code",
   "execution_count": 45,
   "id": "f2a5d7d4",
   "metadata": {
    "scrolled": true
   },
   "outputs": [
    {
     "data": {
      "text/html": [
       "<table class=\"simpletable\">\n",
       "<tr>\n",
       "        <td>Model:</td>               <td>Logit</td>       <td>Pseudo R-squared:</td>    <td>0.262</td>   \n",
       "</tr>\n",
       "<tr>\n",
       "  <td>Dependent Variable:</td> <td>Default_On_Payment</td>       <td>AIC:</td>         <td>3648.5188</td> \n",
       "</tr>\n",
       "<tr>\n",
       "         <td>Date:</td>         <td>2022-11-06 12:21</td>        <td>BIC:</td>         <td>3843.6344</td> \n",
       "</tr>\n",
       "<tr>\n",
       "   <td>No. Observations:</td>         <td>4000</td>         <td>Log-Likelihood:</td>    <td>-1793.3</td>  \n",
       "</tr>\n",
       "<tr>\n",
       "       <td>Df Model:</td>              <td>30</td>             <td>LL-Null:</td>        <td>-2429.7</td>  \n",
       "</tr>\n",
       "<tr>\n",
       "     <td>Df Residuals:</td>           <td>3969</td>          <td>LLR p-value:</td>    <td>7.9243e-249</td>\n",
       "</tr>\n",
       "<tr>\n",
       "      <td>Converged:</td>            <td>1.0000</td>            <td>Scale:</td>         <td>1.0000</td>   \n",
       "</tr>\n",
       "<tr>\n",
       "    <td>No. Iterations:</td>         <td>7.0000</td>               <td></td>               <td></td>      \n",
       "</tr>\n",
       "</table>\n",
       "<table class=\"simpletable\">\n",
       "<tr>\n",
       "                 <td></td>                  <th>Coef.</th>  <th>Std.Err.</th>     <th>z</th>     <th>P>|z|</th> <th>[0.025</th>  <th>0.975]</th> \n",
       "</tr>\n",
       "<tr>\n",
       "  <th>const</th>                           <td>0.7725</td>   <td>0.3306</td>   <td>2.3367</td>  <td>0.0195</td> <td>0.1246</td>  <td>1.4204</td> \n",
       "</tr>\n",
       "<tr>\n",
       "  <th>Duration_in_Months</th>              <td>0.0313</td>   <td>0.0046</td>   <td>6.8345</td>  <td>0.0000</td> <td>0.0223</td>  <td>0.0403</td> \n",
       "</tr>\n",
       "<tr>\n",
       "  <th>Credit_Amount</th>                   <td>0.0001</td>   <td>0.0000</td>   <td>5.8461</td>  <td>0.0000</td> <td>0.0001</td>  <td>0.0002</td> \n",
       "</tr>\n",
       "<tr>\n",
       "  <th>Inst_Rt_Income</th>                  <td>0.3266</td>   <td>0.0434</td>   <td>7.5190</td>  <td>0.0000</td> <td>0.2415</td>  <td>0.4118</td> \n",
       "</tr>\n",
       "<tr>\n",
       "  <th>Age</th>                             <td>-0.0176</td>  <td>0.0043</td>   <td>-4.1211</td> <td>0.0000</td> <td>-0.0259</td> <td>-0.0092</td>\n",
       "</tr>\n",
       "<tr>\n",
       "  <th>Num_CC</th>                          <td>0.2109</td>   <td>0.0919</td>   <td>2.2938</td>  <td>0.0218</td> <td>0.0307</td>  <td>0.3911</td> \n",
       "</tr>\n",
       "<tr>\n",
       "  <th>Dependents</th>                      <td>0.3202</td>   <td>0.1224</td>   <td>2.6154</td>  <td>0.0089</td> <td>0.0802</td>  <td>0.5601</td> \n",
       "</tr>\n",
       "<tr>\n",
       "  <th>Status_Checking_Acc_A12</th>         <td>-0.4655</td>  <td>0.1047</td>   <td>-4.4456</td> <td>0.0000</td> <td>-0.6707</td> <td>-0.2603</td>\n",
       "</tr>\n",
       "<tr>\n",
       "  <th>Status_Checking_Acc_A13</th>         <td>-0.9139</td>  <td>0.1777</td>   <td>-5.1431</td> <td>0.0000</td> <td>-1.2622</td> <td>-0.5656</td>\n",
       "</tr>\n",
       "<tr>\n",
       "  <th>Status_Checking_Acc_A14</th>         <td>-1.8152</td>  <td>0.1134</td>  <td>-16.0048</td> <td>0.0000</td> <td>-2.0375</td> <td>-1.5929</td>\n",
       "</tr>\n",
       "<tr>\n",
       "  <th>Credit_History_A32</th>              <td>-0.7101</td>  <td>0.1500</td>   <td>-4.7331</td> <td>0.0000</td> <td>-1.0042</td> <td>-0.4161</td>\n",
       "</tr>\n",
       "<tr>\n",
       "  <th>Credit_History_A33</th>              <td>-0.8937</td>  <td>0.1884</td>   <td>-4.7442</td> <td>0.0000</td> <td>-1.2629</td> <td>-0.5245</td>\n",
       "</tr>\n",
       "<tr>\n",
       "  <th>Credit_History_A34</th>              <td>-1.4003</td>  <td>0.1690</td>   <td>-8.2835</td> <td>0.0000</td> <td>-1.7316</td> <td>-1.0689</td>\n",
       "</tr>\n",
       "<tr>\n",
       "  <th>Purposre_Credit_Taken_A41</th>       <td>-1.6909</td>  <td>0.1854</td>   <td>-9.1218</td> <td>0.0000</td> <td>-2.0542</td> <td>-1.3276</td>\n",
       "</tr>\n",
       "<tr>\n",
       "  <th>Purposre_Credit_Taken_A410</th>      <td>-1.6631</td>  <td>0.3693</td>   <td>-4.5034</td> <td>0.0000</td> <td>-2.3868</td> <td>-0.9393</td>\n",
       "</tr>\n",
       "<tr>\n",
       "  <th>Purposre_Credit_Taken_A42</th>       <td>-0.7021</td>  <td>0.1201</td>   <td>-5.8471</td> <td>0.0000</td> <td>-0.9374</td> <td>-0.4667</td>\n",
       "</tr>\n",
       "<tr>\n",
       "  <th>Purposre_Credit_Taken_A43</th>       <td>-0.8999</td>  <td>0.1135</td>   <td>-7.9318</td> <td>0.0000</td> <td>-1.1223</td> <td>-0.6776</td>\n",
       "</tr>\n",
       "<tr>\n",
       "  <th>Purposre_Credit_Taken_A48</th>       <td>-2.3357</td>  <td>0.6681</td>   <td>-3.4961</td> <td>0.0005</td> <td>-3.6452</td> <td>-1.0263</td>\n",
       "</tr>\n",
       "<tr>\n",
       "  <th>Purposre_Credit_Taken_A49</th>       <td>-0.7770</td>  <td>0.1569</td>   <td>-4.9535</td> <td>0.0000</td> <td>-1.0844</td> <td>-0.4696</td>\n",
       "</tr>\n",
       "<tr>\n",
       "  <th>Savings_Acc_A64</th>                 <td>-1.2878</td>  <td>0.2556</td>   <td>-5.0383</td> <td>0.0000</td> <td>-1.7887</td> <td>-0.7868</td>\n",
       "</tr>\n",
       "<tr>\n",
       "  <th>Savings_Acc_A65</th>                 <td>-0.8832</td>  <td>0.1278</td>   <td>-6.9092</td> <td>0.0000</td> <td>-1.1337</td> <td>-0.6326</td>\n",
       "</tr>\n",
       "<tr>\n",
       "  <th>Years_At_Present_Employment_A74</th> <td>-0.5940</td>  <td>0.1200</td>   <td>-4.9505</td> <td>0.0000</td> <td>-0.8292</td> <td>-0.3588</td>\n",
       "</tr>\n",
       "<tr>\n",
       "  <th>Marital_Status_Gender_A93</th>       <td>-0.5491</td>  <td>0.0943</td>   <td>-5.8202</td> <td>0.0000</td> <td>-0.7340</td> <td>-0.3642</td>\n",
       "</tr>\n",
       "<tr>\n",
       "  <th>Other_Debtors_Guarantors_A102</th>   <td>0.5213</td>   <td>0.2053</td>   <td>2.5398</td>  <td>0.0111</td> <td>0.1190</td>  <td>0.9236</td> \n",
       "</tr>\n",
       "<tr>\n",
       "  <th>Other_Debtors_Guarantors_A103</th>   <td>-0.8986</td>  <td>0.2089</td>   <td>-4.3018</td> <td>0.0000</td> <td>-1.3080</td> <td>-0.4892</td>\n",
       "</tr>\n",
       "<tr>\n",
       "  <th>Property_A124</th>                   <td>0.5069</td>   <td>0.1977</td>   <td>2.5638</td>  <td>0.0104</td> <td>0.1194</td>  <td>0.8945</td> \n",
       "</tr>\n",
       "<tr>\n",
       "  <th>Other_Inst_Plans _A143</th>          <td>-0.6515</td>  <td>0.1053</td>   <td>-6.1887</td> <td>0.0000</td> <td>-0.8579</td> <td>-0.4452</td>\n",
       "</tr>\n",
       "<tr>\n",
       "  <th>Housing_A152</th>                    <td>-0.4947</td>  <td>0.1113</td>   <td>-4.4465</td> <td>0.0000</td> <td>-0.7128</td> <td>-0.2767</td>\n",
       "</tr>\n",
       "<tr>\n",
       "  <th>Housing_A153</th>                    <td>-0.6415</td>  <td>0.2436</td>   <td>-2.6332</td> <td>0.0085</td> <td>-1.1190</td> <td>-0.1640</td>\n",
       "</tr>\n",
       "<tr>\n",
       "  <th>Telephone_A192</th>                  <td>-0.2610</td>  <td>0.0932</td>   <td>-2.8010</td> <td>0.0051</td> <td>-0.4436</td> <td>-0.0784</td>\n",
       "</tr>\n",
       "<tr>\n",
       "  <th>Foreign_Worker_A202</th>             <td>-1.7170</td>  <td>0.3293</td>   <td>-5.2148</td> <td>0.0000</td> <td>-2.3624</td> <td>-1.0717</td>\n",
       "</tr>\n",
       "</table>"
      ],
      "text/plain": [
       "<class 'statsmodels.iolib.summary2.Summary'>\n",
       "\"\"\"\n",
       "                                 Results: Logit\n",
       "================================================================================\n",
       "Model:                  Logit                  Pseudo R-squared:     0.262      \n",
       "Dependent Variable:     Default_On_Payment     AIC:                  3648.5188  \n",
       "Date:                   2022-11-06 12:21       BIC:                  3843.6344  \n",
       "No. Observations:       4000                   Log-Likelihood:       -1793.3    \n",
       "Df Model:               30                     LL-Null:              -2429.7    \n",
       "Df Residuals:           3969                   LLR p-value:          7.9243e-249\n",
       "Converged:              1.0000                 Scale:                1.0000     \n",
       "No. Iterations:         7.0000                                                  \n",
       "--------------------------------------------------------------------------------\n",
       "                                 Coef.  Std.Err.    z     P>|z|   [0.025  0.975]\n",
       "--------------------------------------------------------------------------------\n",
       "const                            0.7725   0.3306   2.3367 0.0195  0.1246  1.4204\n",
       "Duration_in_Months               0.0313   0.0046   6.8345 0.0000  0.0223  0.0403\n",
       "Credit_Amount                    0.0001   0.0000   5.8461 0.0000  0.0001  0.0002\n",
       "Inst_Rt_Income                   0.3266   0.0434   7.5190 0.0000  0.2415  0.4118\n",
       "Age                             -0.0176   0.0043  -4.1211 0.0000 -0.0259 -0.0092\n",
       "Num_CC                           0.2109   0.0919   2.2938 0.0218  0.0307  0.3911\n",
       "Dependents                       0.3202   0.1224   2.6154 0.0089  0.0802  0.5601\n",
       "Status_Checking_Acc_A12         -0.4655   0.1047  -4.4456 0.0000 -0.6707 -0.2603\n",
       "Status_Checking_Acc_A13         -0.9139   0.1777  -5.1431 0.0000 -1.2622 -0.5656\n",
       "Status_Checking_Acc_A14         -1.8152   0.1134 -16.0048 0.0000 -2.0375 -1.5929\n",
       "Credit_History_A32              -0.7101   0.1500  -4.7331 0.0000 -1.0042 -0.4161\n",
       "Credit_History_A33              -0.8937   0.1884  -4.7442 0.0000 -1.2629 -0.5245\n",
       "Credit_History_A34              -1.4003   0.1690  -8.2835 0.0000 -1.7316 -1.0689\n",
       "Purposre_Credit_Taken_A41       -1.6909   0.1854  -9.1218 0.0000 -2.0542 -1.3276\n",
       "Purposre_Credit_Taken_A410      -1.6631   0.3693  -4.5034 0.0000 -2.3868 -0.9393\n",
       "Purposre_Credit_Taken_A42       -0.7021   0.1201  -5.8471 0.0000 -0.9374 -0.4667\n",
       "Purposre_Credit_Taken_A43       -0.8999   0.1135  -7.9318 0.0000 -1.1223 -0.6776\n",
       "Purposre_Credit_Taken_A48       -2.3357   0.6681  -3.4961 0.0005 -3.6452 -1.0263\n",
       "Purposre_Credit_Taken_A49       -0.7770   0.1569  -4.9535 0.0000 -1.0844 -0.4696\n",
       "Savings_Acc_A64                 -1.2878   0.2556  -5.0383 0.0000 -1.7887 -0.7868\n",
       "Savings_Acc_A65                 -0.8832   0.1278  -6.9092 0.0000 -1.1337 -0.6326\n",
       "Years_At_Present_Employment_A74 -0.5940   0.1200  -4.9505 0.0000 -0.8292 -0.3588\n",
       "Marital_Status_Gender_A93       -0.5491   0.0943  -5.8202 0.0000 -0.7340 -0.3642\n",
       "Other_Debtors_Guarantors_A102    0.5213   0.2053   2.5398 0.0111  0.1190  0.9236\n",
       "Other_Debtors_Guarantors_A103   -0.8986   0.2089  -4.3018 0.0000 -1.3080 -0.4892\n",
       "Property_A124                    0.5069   0.1977   2.5638 0.0104  0.1194  0.8945\n",
       "Other_Inst_Plans _A143          -0.6515   0.1053  -6.1887 0.0000 -0.8579 -0.4452\n",
       "Housing_A152                    -0.4947   0.1113  -4.4465 0.0000 -0.7128 -0.2767\n",
       "Housing_A153                    -0.6415   0.2436  -2.6332 0.0085 -1.1190 -0.1640\n",
       "Telephone_A192                  -0.2610   0.0932  -2.8010 0.0051 -0.4436 -0.0784\n",
       "Foreign_Worker_A202             -1.7170   0.3293  -5.2148 0.0000 -2.3624 -1.0717\n",
       "================================================================================\n",
       "\n",
       "\"\"\""
      ]
     },
     "execution_count": 45,
     "metadata": {},
     "output_type": "execute_result"
    }
   ],
   "source": [
    "final_logit1.summary2()"
   ]
  },
  {
   "cell_type": "markdown",
   "id": "1857de60",
   "metadata": {},
   "source": [
    "Log(P(Y=1)/(1-p(Y=1))) = Z = b0+ b1X1+ b2X2+ b3X3 +...+bmXm\n",
    "\n",
    "        P(Y=1)=e(Z)/(1+e(Z),\n",
    "\n",
    " Here, \n",
    "         Log(P(Y=1)/(1-p(Y=1))) = 0.6663+ 0.0309(Duration_in_Months    ) + 0.0001(Credit_Amount) + ......\n",
    "The negative sign in coefficient value indicates that as the value of this variable increases, the probability of being a bad credit decreases, that is, P(Yi = 1) decreases. A positive sign means that the probability of being a bad credit increases as the corresponding value of the variable increases. Some observations from the model output are:\n",
    "\n",
    "1 ) The log of odds ratio or probability of being a bad credit increases as duration, amount, inst_rate increases. For example, one unit change in duration results in 0.0309 unit change in log of odds ratio\n",
    "2) The probability of being a bad credit decreases as age increases. This means that older people tend to pay back their credits ontime compared to younger people."
   ]
  },
  {
   "cell_type": "code",
   "execution_count": 49,
   "id": "3b8a5fe5",
   "metadata": {
    "code_folding": []
   },
   "outputs": [],
   "source": [
    "y_pred_df= pd.DataFrame( {'actual': y_test,'predicted_prob': \n",
    "                          final_logit1.predict( sm.add_constant( x_test[significant_vars1]))})"
   ]
  },
  {
   "cell_type": "code",
   "execution_count": 50,
   "id": "b5aa854f",
   "metadata": {},
   "outputs": [
    {
     "data": {
      "text/html": [
       "<div>\n",
       "<style scoped>\n",
       "    .dataframe tbody tr th:only-of-type {\n",
       "        vertical-align: middle;\n",
       "    }\n",
       "\n",
       "    .dataframe tbody tr th {\n",
       "        vertical-align: top;\n",
       "    }\n",
       "\n",
       "    .dataframe thead th {\n",
       "        text-align: right;\n",
       "    }\n",
       "</style>\n",
       "<table border=\"1\" class=\"dataframe\">\n",
       "  <thead>\n",
       "    <tr style=\"text-align: right;\">\n",
       "      <th></th>\n",
       "      <th>actual</th>\n",
       "      <th>predicted_prob</th>\n",
       "    </tr>\n",
       "  </thead>\n",
       "  <tbody>\n",
       "    <tr>\n",
       "      <th>3829</th>\n",
       "      <td>0</td>\n",
       "      <td>0.495859</td>\n",
       "    </tr>\n",
       "    <tr>\n",
       "      <th>3676</th>\n",
       "      <td>0</td>\n",
       "      <td>0.079483</td>\n",
       "    </tr>\n",
       "    <tr>\n",
       "      <th>1338</th>\n",
       "      <td>0</td>\n",
       "      <td>0.570096</td>\n",
       "    </tr>\n",
       "    <tr>\n",
       "      <th>17</th>\n",
       "      <td>0</td>\n",
       "      <td>0.765296</td>\n",
       "    </tr>\n",
       "    <tr>\n",
       "      <th>1618</th>\n",
       "      <td>1</td>\n",
       "      <td>0.720799</td>\n",
       "    </tr>\n",
       "    <tr>\n",
       "      <th>3957</th>\n",
       "      <td>0</td>\n",
       "      <td>0.090604</td>\n",
       "    </tr>\n",
       "    <tr>\n",
       "      <th>3270</th>\n",
       "      <td>0</td>\n",
       "      <td>0.011305</td>\n",
       "    </tr>\n",
       "    <tr>\n",
       "      <th>4743</th>\n",
       "      <td>0</td>\n",
       "      <td>0.782072</td>\n",
       "    </tr>\n",
       "    <tr>\n",
       "      <th>589</th>\n",
       "      <td>1</td>\n",
       "      <td>0.154360</td>\n",
       "    </tr>\n",
       "    <tr>\n",
       "      <th>3192</th>\n",
       "      <td>1</td>\n",
       "      <td>0.431132</td>\n",
       "    </tr>\n",
       "  </tbody>\n",
       "</table>\n",
       "</div>"
      ],
      "text/plain": [
       "      actual  predicted_prob\n",
       "3829       0        0.495859\n",
       "3676       0        0.079483\n",
       "1338       0        0.570096\n",
       "17         0        0.765296\n",
       "1618       1        0.720799\n",
       "3957       0        0.090604\n",
       "3270       0        0.011305\n",
       "4743       0        0.782072\n",
       "589        1        0.154360\n",
       "3192       1        0.431132"
      ]
     },
     "execution_count": 50,
     "metadata": {},
     "output_type": "execute_result"
    }
   ],
   "source": [
    "y_pred_df.sample(10,random_state=52)"
   ]
  },
  {
   "cell_type": "code",
   "execution_count": 51,
   "id": "0fb700da",
   "metadata": {},
   "outputs": [
    {
     "data": {
      "text/html": [
       "<div>\n",
       "<style scoped>\n",
       "    .dataframe tbody tr th:only-of-type {\n",
       "        vertical-align: middle;\n",
       "    }\n",
       "\n",
       "    .dataframe tbody tr th {\n",
       "        vertical-align: top;\n",
       "    }\n",
       "\n",
       "    .dataframe thead th {\n",
       "        text-align: right;\n",
       "    }\n",
       "</style>\n",
       "<table border=\"1\" class=\"dataframe\">\n",
       "  <thead>\n",
       "    <tr style=\"text-align: right;\">\n",
       "      <th></th>\n",
       "      <th>actual</th>\n",
       "      <th>predicted_prob</th>\n",
       "      <th>predicted</th>\n",
       "    </tr>\n",
       "  </thead>\n",
       "  <tbody>\n",
       "    <tr>\n",
       "      <th>3829</th>\n",
       "      <td>0</td>\n",
       "      <td>0.495859</td>\n",
       "      <td>0</td>\n",
       "    </tr>\n",
       "    <tr>\n",
       "      <th>3676</th>\n",
       "      <td>0</td>\n",
       "      <td>0.079483</td>\n",
       "      <td>0</td>\n",
       "    </tr>\n",
       "    <tr>\n",
       "      <th>1338</th>\n",
       "      <td>0</td>\n",
       "      <td>0.570096</td>\n",
       "      <td>1</td>\n",
       "    </tr>\n",
       "    <tr>\n",
       "      <th>17</th>\n",
       "      <td>0</td>\n",
       "      <td>0.765296</td>\n",
       "      <td>1</td>\n",
       "    </tr>\n",
       "    <tr>\n",
       "      <th>1618</th>\n",
       "      <td>1</td>\n",
       "      <td>0.720799</td>\n",
       "      <td>1</td>\n",
       "    </tr>\n",
       "    <tr>\n",
       "      <th>3957</th>\n",
       "      <td>0</td>\n",
       "      <td>0.090604</td>\n",
       "      <td>0</td>\n",
       "    </tr>\n",
       "    <tr>\n",
       "      <th>3270</th>\n",
       "      <td>0</td>\n",
       "      <td>0.011305</td>\n",
       "      <td>0</td>\n",
       "    </tr>\n",
       "    <tr>\n",
       "      <th>4743</th>\n",
       "      <td>0</td>\n",
       "      <td>0.782072</td>\n",
       "      <td>1</td>\n",
       "    </tr>\n",
       "    <tr>\n",
       "      <th>589</th>\n",
       "      <td>1</td>\n",
       "      <td>0.154360</td>\n",
       "      <td>0</td>\n",
       "    </tr>\n",
       "    <tr>\n",
       "      <th>3192</th>\n",
       "      <td>1</td>\n",
       "      <td>0.431132</td>\n",
       "      <td>0</td>\n",
       "    </tr>\n",
       "  </tbody>\n",
       "</table>\n",
       "</div>"
      ],
      "text/plain": [
       "      actual  predicted_prob  predicted\n",
       "3829       0        0.495859          0\n",
       "3676       0        0.079483          0\n",
       "1338       0        0.570096          1\n",
       "17         0        0.765296          1\n",
       "1618       1        0.720799          1\n",
       "3957       0        0.090604          0\n",
       "3270       0        0.011305          0\n",
       "4743       0        0.782072          1\n",
       "589        1        0.154360          0\n",
       "3192       1        0.431132          0"
      ]
     },
     "execution_count": 51,
     "metadata": {},
     "output_type": "execute_result"
    }
   ],
   "source": [
    "y_pred_df['predicted'] = y_pred_df.predicted_prob.map( lambda x: 1 if x > 0.5 else 0)\n",
    "y_pred_df.sample(10, random_state = 52)"
   ]
  },
  {
   "cell_type": "code",
   "execution_count": 52,
   "id": "7a7338b8",
   "metadata": {},
   "outputs": [],
   "source": [
    "# Confusion Matrix\n",
    "\n",
    "import matplotlib.pyplot as plt \n",
    "import seaborn as sn\n",
    "%matplotlib inline"
   ]
  },
  {
   "cell_type": "code",
   "execution_count": 53,
   "id": "acc0d642",
   "metadata": {},
   "outputs": [],
   "source": [
    "from sklearn import metrics\n",
    "def draw_cm( actual, predicted ):\n",
    "    cm = metrics.confusion_matrix( actual, predicted ) \n",
    "    sn.heatmap(cm, annot=True, fmt='.2f',\n",
    "               xticklabels = ['Bad credit', 'Good Credit'],\n",
    "               yticklabels = ['Bad credit', 'Good Credit'] )"
   ]
  },
  {
   "cell_type": "code",
   "execution_count": 54,
   "id": "965a4bab",
   "metadata": {},
   "outputs": [
    {
     "data": {
      "image/png": "[encoded data removed]",
      "text/plain": [
       "<Figure size 432x288 with 2 Axes>"
      ]
     },
     "metadata": {
      "needs_background": "light"
     },
     "output_type": "display_data"
    }
   ],
   "source": [
    "plt.ylabel('True label') \n",
    "plt.xlabel('Predicted label') \n",
    "draw_cm( y_pred_df.actual, y_pred_df.predicted )"
   ]
  },
  {
   "cell_type": "markdown",
   "id": "ed83c468",
   "metadata": {},
   "source": [
    "*Measuring Accuracies*"
   ]
  },
  {
   "cell_type": "code",
   "execution_count": 55,
   "id": "8d461697",
   "metadata": {},
   "outputs": [
    {
     "name": "stdout",
     "output_type": "stream",
     "text": [
      "              precision    recall  f1-score   support\n",
      "\n",
      "           0       0.81      0.89      0.85       689\n",
      "           1       0.69      0.55      0.61       311\n",
      "\n",
      "    accuracy                           0.78      1000\n",
      "   macro avg       0.75      0.72      0.73      1000\n",
      "weighted avg       0.77      0.78      0.77      1000\n",
      "\n"
     ]
    }
   ],
   "source": [
    "print( metrics.classification_report( y_pred_df.actual, y_pred_df.predicted ) )"
   ]
  },
  {
   "cell_type": "markdown",
   "id": "6e688f01",
   "metadata": {},
   "source": [
    "The model is very good at identifying the good credits (Y = 0), but not very good at identifying bad \n",
    "credits. This is the result for cut-off probability of 0.5%. This can be improved by choosing the right \n",
    "cut-off probability.\n",
    "\n",
    "We can plot the distributions of predicted probability values for good and bad credits to understand \n",
    "how well the model can distinguish bad credits from good credits."
   ]
  },
  {
   "cell_type": "code",
   "execution_count": 56,
   "id": "d1f02b1f",
   "metadata": {},
   "outputs": [
    {
     "name": "stderr",
     "output_type": "stream",
     "text": [
      "C:\\Users\\HP\\anaconda3\\lib\\site-packages\\seaborn\\distributions.py:2619: FutureWarning: `distplot` is a deprecated function and will be removed in a future version. Please adapt your code to use either `displot` (a figure-level function with similar flexibility) or `histplot` (an axes-level function for histograms).\n",
      "  warnings.warn(msg, FutureWarning)\n"
     ]
    },
    {
     "data": {
      "image/png": "[encoded data removed]",
      "text/plain": [
       "<Figure size 576x432 with 1 Axes>"
      ]
     },
     "metadata": {
      "needs_background": "light"
     },
     "output_type": "display_data"
    }
   ],
   "source": [
    "plt.figure( figsize = (8,6) )\n",
    "# Plotting distribution of predicted probability values for bad credits\n",
    "sn.distplot( y_pred_df[y_pred_df.actual == 1]['predicted_prob'], \n",
    "kde=False, color = 'b', \n",
    "label = 'Bad Credit')\n",
    "# Plotting distribution of predicted probability values for good credits\n",
    "sn.distplot( y_pred_df[y_pred_df.actual == 0]['predicted_prob'], \n",
    "kde=False, color = 'g', \n",
    "label = 'Good Credit') \n",
    "plt.legend()\n",
    "plt.show()"
   ]
  },
  {
   "cell_type": "markdown",
   "id": "d32d8319",
   "metadata": {},
   "source": [
    "We can use a chart to understand how the distributions of predicted probabilities for bad credit and \n",
    "good credit look like. Larger the overlap between predicted probabilities for different classes,\n",
    "higher will be the misclassifications. "
   ]
  },
  {
   "cell_type": "markdown",
   "id": "fc6c785b",
   "metadata": {},
   "source": [
    "Receiver Operating Characteristic (ROC) and Area Under the Curve (AUC)"
   ]
  },
  {
   "cell_type": "code",
   "execution_count": 57,
   "id": "0efc6bf7",
   "metadata": {},
   "outputs": [],
   "source": [
    "def draw_roc( actual, probs ): \n",
    "# Obtain fpr, tpr, thresholds \n",
    "    fpr, tpr, thresholds = metrics.roc_curve( actual, probs, drop_intermediate = False ) \n",
    "    auc_score = metrics.roc_auc_score( actual, probs ) \n",
    "    plt.figure(figsize=(8, 6))\n",
    "\n",
    "    # Plot the fpr and tpr values for different threshold values\n",
    "    plt.plot( fpr, tpr, label='ROC curve (area = %0.2f)' % auc_score ) \n",
    "\n",
    "    # draw a diagonal line connecting the origin and top right most point\n",
    "    plt.plot([0, 1], [0, 1], 'k--')\n",
    "    plt.xlim([0.0, 1.0])\n",
    "    plt.ylim([0.0, 1.05])\n",
    "   # Setting x and y labels\n",
    "    plt.xlabel('False Positive Rate or [1 - True Negative Rate]') \n",
    "    plt.ylabel('True Positive Rate')\n",
    "    plt.legend(loc='lower right') \n",
    "    plt.show()\n",
    "\n",
    "    return fpr, tpr, thresholds"
   ]
  },
  {
   "cell_type": "code",
   "execution_count": 58,
   "id": "b6727e62",
   "metadata": {},
   "outputs": [
    {
     "data": {
      "image/png": "[encoded data removed]",
      "text/plain": [
       "<Figure size 576x432 with 1 Axes>"
      ]
     },
     "metadata": {
      "needs_background": "light"
     },
     "output_type": "display_data"
    }
   ],
   "source": [
    "fpr, tpr, thresholds = draw_roc( y_pred_df.actual, \n",
    "y_pred_df.predicted_prob)"
   ]
  },
  {
   "cell_type": "code",
   "execution_count": 59,
   "id": "0d52c211",
   "metadata": {},
   "outputs": [
    {
     "data": {
      "text/plain": [
       "0.82"
      ]
     },
     "execution_count": 59,
     "metadata": {},
     "output_type": "execute_result"
    }
   ],
   "source": [
    "auc_score = metrics.roc_auc_score( y_pred_df.actual, \n",
    "y_pred_df.predicted_prob )\n",
    "round( float( auc_score ), 2 )"
   ]
  },
  {
   "cell_type": "code",
   "execution_count": 60,
   "id": "920845ca",
   "metadata": {},
   "outputs": [
    {
     "data": {
      "text/html": [
       "<div>\n",
       "<style scoped>\n",
       "    .dataframe tbody tr th:only-of-type {\n",
       "        vertical-align: middle;\n",
       "    }\n",
       "\n",
       "    .dataframe tbody tr th {\n",
       "        vertical-align: top;\n",
       "    }\n",
       "\n",
       "    .dataframe thead th {\n",
       "        text-align: right;\n",
       "    }\n",
       "</style>\n",
       "<table border=\"1\" class=\"dataframe\">\n",
       "  <thead>\n",
       "    <tr style=\"text-align: right;\">\n",
       "      <th></th>\n",
       "      <th>tpr</th>\n",
       "      <th>fpr</th>\n",
       "      <th>thresholds</th>\n",
       "      <th>diff</th>\n",
       "    </tr>\n",
       "  </thead>\n",
       "  <tbody>\n",
       "    <tr>\n",
       "      <th>250</th>\n",
       "      <td>0.723473</td>\n",
       "      <td>0.222061</td>\n",
       "      <td>0.339288</td>\n",
       "      <td>0.501412</td>\n",
       "    </tr>\n",
       "    <tr>\n",
       "      <th>239</th>\n",
       "      <td>0.710611</td>\n",
       "      <td>0.210450</td>\n",
       "      <td>0.358820</td>\n",
       "      <td>0.500161</td>\n",
       "    </tr>\n",
       "    <tr>\n",
       "      <th>264</th>\n",
       "      <td>0.739550</td>\n",
       "      <td>0.239478</td>\n",
       "      <td>0.313406</td>\n",
       "      <td>0.500072</td>\n",
       "    </tr>\n",
       "    <tr>\n",
       "      <th>248</th>\n",
       "      <td>0.720257</td>\n",
       "      <td>0.220610</td>\n",
       "      <td>0.340835</td>\n",
       "      <td>0.499648</td>\n",
       "    </tr>\n",
       "    <tr>\n",
       "      <th>302</th>\n",
       "      <td>0.790997</td>\n",
       "      <td>0.291727</td>\n",
       "      <td>0.264490</td>\n",
       "      <td>0.499270</td>\n",
       "    </tr>\n",
       "  </tbody>\n",
       "</table>\n",
       "</div>"
      ],
      "text/plain": [
       "          tpr       fpr  thresholds      diff\n",
       "250  0.723473  0.222061    0.339288  0.501412\n",
       "239  0.710611  0.210450    0.358820  0.500161\n",
       "264  0.739550  0.239478    0.313406  0.500072\n",
       "248  0.720257  0.220610    0.340835  0.499648\n",
       "302  0.790997  0.291727    0.264490  0.499270"
      ]
     },
     "execution_count": 60,
     "metadata": {},
     "output_type": "execute_result"
    }
   ],
   "source": [
    "tpr_fpr = pd.DataFrame( { 'tpr': tpr, \n",
    "'fpr': fpr, \n",
    "'thresholds': thresholds } )\n",
    "tpr_fpr['diff'] = tpr_fpr.tpr - tpr_fpr.fpr \n",
    "tpr_fpr.sort_values( 'diff', ascending = False )[0:5]"
   ]
  },
  {
   "cell_type": "code",
   "execution_count": 61,
   "id": "12750b68",
   "metadata": {},
   "outputs": [],
   "source": [
    "y_pred_df['predicted_new'] = y_pred_df.predicted_prob.map( lambda x: 1 if x > 0.34 else 0)"
   ]
  },
  {
   "cell_type": "code",
   "execution_count": 62,
   "id": "500d3dee",
   "metadata": {},
   "outputs": [
    {
     "data": {
      "image/png": "[encoded data removed]",
      "text/plain": [
       "<Figure size 432x288 with 2 Axes>"
      ]
     },
     "metadata": {
      "needs_background": "light"
     },
     "output_type": "display_data"
    }
   ],
   "source": [
    "draw_cm( y_pred_df.actual, y_pred_df.predicted_new)"
   ]
  },
  {
   "cell_type": "code",
   "execution_count": 63,
   "id": "31b4bff5",
   "metadata": {},
   "outputs": [
    {
     "name": "stdout",
     "output_type": "stream",
     "text": [
      "              precision    recall  f1-score   support\n",
      "\n",
      "           0       0.86      0.78      0.82       689\n",
      "           1       0.60      0.72      0.65       311\n",
      "\n",
      "    accuracy                           0.76      1000\n",
      "   macro avg       0.73      0.75      0.74      1000\n",
      "weighted avg       0.78      0.76      0.77      1000\n",
      "\n"
     ]
    }
   ],
   "source": [
    "print(metrics.classification_report( y_pred_df.actual, \n",
    "y_pred_df.predicted_new ))"
   ]
  },
  {
   "cell_type": "code",
   "execution_count": null,
   "id": "e83d133c",
   "metadata": {},
   "outputs": [],
   "source": []
  }
 ],
 "metadata": {
  "kernelspec": {
   "display_name": "Python 3 (ipykernel)",
   "language": "python",
   "name": "python3"
  },
  "language_info": {
   "codemirror_mode": {
    "name": "ipython",
    "version": 3
   },
   "file_extension": ".py",
   "mimetype": "text/x-python",
   "name": "python",
   "nbconvert_exporter": "python",
   "pygments_lexer": "ipython3",
   "version": "3.9.12"
  }
 },
 "nbformat": 4,
 "nbformat_minor": 5
}
